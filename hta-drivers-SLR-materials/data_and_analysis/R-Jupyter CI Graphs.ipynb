{
 "cells": [
  {
   "cell_type": "code",
   "execution_count": 30,
   "metadata": {
    "vscode": {
     "languageId": "r"
    }
   },
   "outputs": [
    {
     "name": "stderr",
     "output_type": "stream",
     "text": [
      "Warning message:\n",
      "\"packages 'readxl', 'dplyr' are in use and will not be installed\"\n",
      "Warning message:\n",
      "\"package 'cowplot' is in use and will not be installed\"\n",
      "Warning message:\n",
      "\"package 'here' is in use and will not be installed\"\n"
     ]
    }
   ],
   "source": [
    "install.packages(c(\"readxl\", \"dplyr\"))\n",
    "install.packages(\"cowplot\")\n",
    "install.packages(\"here\")\n",
    "\n",
    "library(readxl)\n",
    "library(dplyr)\n",
    "library(ggplot2)\n",
    "library(cowplot)\n",
    "library(here)\n"
   ]
  },
  {
   "cell_type": "code",
   "execution_count": 31,
   "metadata": {
    "vscode": {
     "languageId": "r"
    }
   },
   "outputs": [
    {
     "data": {
      "text/html": [
       "<table class=\"dataframe\">\n",
       "<caption>A tibble: 6 × 12</caption>\n",
       "<thead>\n",
       "\t<tr><th scope=col>Broader Driver Category</th><th scope=col>Comparison</th><th scope=col>Driver</th><th scope=col>Type of Association Measure</th><th scope=col>Association</th><th scope=col>Lower Bound of 95%CI</th><th scope=col>Upper Bound of 95%CI</th><th scope=col>SE</th><th scope=col>SD</th><th scope=col>P-Value</th><th scope=col>Countries Assessed</th><th scope=col>Reference</th></tr>\n",
       "\t<tr><th scope=col>&lt;chr&gt;</th><th scope=col>&lt;chr&gt;</th><th scope=col>&lt;chr&gt;</th><th scope=col>&lt;chr&gt;</th><th scope=col>&lt;chr&gt;</th><th scope=col>&lt;dbl&gt;</th><th scope=col>&lt;dbl&gt;</th><th scope=col>&lt;dbl&gt;</th><th scope=col>&lt;dbl&gt;</th><th scope=col>&lt;chr&gt;</th><th scope=col>&lt;chr&gt;</th><th scope=col>&lt;chr&gt;</th></tr>\n",
       "</thead>\n",
       "<tbody>\n",
       "\t<tr><td><span style=white-space:pre-wrap>Innovation    </span></td><td>Recommended vs Not Recommended </td><td><span style=white-space:pre-wrap>Innovation    </span></td><td>OR </td><td>0.30640000000000001</td><td>0.0487000</td><td>1.930300</td><td><span style=white-space:pre-wrap>   NA</span></td><td>NA</td><td>0.60189999999999999</td><td><span style=white-space:pre-wrap>Wales (UK)                                                   </span></td><td><span style=white-space:pre-wrap>Linley &amp; Hughes, 2012         </span></td></tr>\n",
       "\t<tr><td>Innovation    </td><td>Positive vs Negative           </td><td>Innovation    </td><td>OR </td><td>0.91900000000000004</td><td>       NA</td><td>      NA</td><td>0.574</td><td>NA</td><td>NS                 </td><td>CANADA-(INESSS), CANADA-(CADTH) Scotland, UK, France         </td><td>Mills, 2023                   </td></tr>\n",
       "\t<tr><td>Innovation    </td><td>Recommended vs Not Recommended </td><td>Innovation    </td><td>OR </td><td>1.7010000000000001 </td><td>0.6560000</td><td>4.411100</td><td>   NA</td><td>NA</td><td>NS                 </td><td>UK                                                           </td><td>H. Dakin, Devlin, et al., 2015</td></tr>\n",
       "\t<tr><td>Innovation    </td><td>Recommended vs Not Recommended </td><td>Innovation    </td><td>RRR</td><td>0.71399999999999997</td><td>       NA</td><td>      NA</td><td>0.339</td><td>NA</td><td>NS                 </td><td>Australia, Canada, England, France, Germany, Scotland, Sweden</td><td>Kanavos et al., 2023          </td></tr>\n",
       "\t<tr><td>New indication</td><td>Recommended vs Not Recommended </td><td>New indication</td><td>OR </td><td>1.5589304856219153 </td><td>0.2508249</td><td>9.689085</td><td>   NA</td><td>NA</td><td>NS                 </td><td>Australia                                                    </td><td>Haque et al., 2023            </td></tr>\n",
       "\t<tr><td>New Indication</td><td>Recommended  vs not Recommended</td><td>New Indication</td><td>OR </td><td>2.9411764705882351 </td><td>1.5873016</td><td>5.555556</td><td>   NA</td><td>NA</td><td>1E-3               </td><td>Australia                                                    </td><td>Chim et al., 2010             </td></tr>\n",
       "</tbody>\n",
       "</table>\n"
      ],
      "text/latex": [
       "A tibble: 6 × 12\n",
       "\\begin{tabular}{llllllllllll}\n",
       " Broader Driver Category & Comparison & Driver & Type of Association Measure & Association & Lower Bound of 95\\%CI & Upper Bound of 95\\%CI & SE & SD & P-Value & Countries Assessed & Reference\\\\\n",
       " <chr> & <chr> & <chr> & <chr> & <chr> & <dbl> & <dbl> & <dbl> & <dbl> & <chr> & <chr> & <chr>\\\\\n",
       "\\hline\n",
       "\t Innovation     & Recommended vs Not Recommended  & Innovation     & OR  & 0.30640000000000001 & 0.0487000 & 1.930300 &    NA & NA & 0.60189999999999999 & Wales (UK)                                                    & Linley \\& Hughes, 2012         \\\\\n",
       "\t Innovation     & Positive vs Negative            & Innovation     & OR  & 0.91900000000000004 &        NA &       NA & 0.574 & NA & NS                  & CANADA-(INESSS), CANADA-(CADTH) Scotland, UK, France          & Mills, 2023                   \\\\\n",
       "\t Innovation     & Recommended vs Not Recommended  & Innovation     & OR  & 1.7010000000000001  & 0.6560000 & 4.411100 &    NA & NA & NS                  & UK                                                            & H. Dakin, Devlin, et al., 2015\\\\\n",
       "\t Innovation     & Recommended vs Not Recommended  & Innovation     & RRR & 0.71399999999999997 &        NA &       NA & 0.339 & NA & NS                  & Australia, Canada, England, France, Germany, Scotland, Sweden & Kanavos et al., 2023          \\\\\n",
       "\t New indication & Recommended vs Not Recommended  & New indication & OR  & 1.5589304856219153  & 0.2508249 & 9.689085 &    NA & NA & NS                  & Australia                                                     & Haque et al., 2023            \\\\\n",
       "\t New Indication & Recommended  vs not Recommended & New Indication & OR  & 2.9411764705882351  & 1.5873016 & 5.555556 &    NA & NA & 1E-3                & Australia                                                     & Chim et al., 2010             \\\\\n",
       "\\end{tabular}\n"
      ],
      "text/markdown": [
       "\n",
       "A tibble: 6 × 12\n",
       "\n",
       "| Broader Driver Category &lt;chr&gt; | Comparison &lt;chr&gt; | Driver &lt;chr&gt; | Type of Association Measure &lt;chr&gt; | Association &lt;chr&gt; | Lower Bound of 95%CI &lt;dbl&gt; | Upper Bound of 95%CI &lt;dbl&gt; | SE &lt;dbl&gt; | SD &lt;dbl&gt; | P-Value &lt;chr&gt; | Countries Assessed &lt;chr&gt; | Reference &lt;chr&gt; |\n",
       "|---|---|---|---|---|---|---|---|---|---|---|---|\n",
       "| Innovation     | Recommended vs Not Recommended  | Innovation     | OR  | 0.30640000000000001 | 0.0487000 | 1.930300 |    NA | NA | 0.60189999999999999 | Wales (UK)                                                    | Linley &amp; Hughes, 2012          |\n",
       "| Innovation     | Positive vs Negative            | Innovation     | OR  | 0.91900000000000004 |        NA |       NA | 0.574 | NA | NS                  | CANADA-(INESSS), CANADA-(CADTH) Scotland, UK, France          | Mills, 2023                    |\n",
       "| Innovation     | Recommended vs Not Recommended  | Innovation     | OR  | 1.7010000000000001  | 0.6560000 | 4.411100 |    NA | NA | NS                  | UK                                                            | H. Dakin, Devlin, et al., 2015 |\n",
       "| Innovation     | Recommended vs Not Recommended  | Innovation     | RRR | 0.71399999999999997 |        NA |       NA | 0.339 | NA | NS                  | Australia, Canada, England, France, Germany, Scotland, Sweden | Kanavos et al., 2023           |\n",
       "| New indication | Recommended vs Not Recommended  | New indication | OR  | 1.5589304856219153  | 0.2508249 | 9.689085 |    NA | NA | NS                  | Australia                                                     | Haque et al., 2023             |\n",
       "| New Indication | Recommended  vs not Recommended | New Indication | OR  | 2.9411764705882351  | 1.5873016 | 5.555556 |    NA | NA | 1E-3                | Australia                                                     | Chim et al., 2010              |\n",
       "\n"
      ],
      "text/plain": [
       "  Broader Driver Category Comparison                      Driver        \n",
       "1 Innovation              Recommended vs Not Recommended  Innovation    \n",
       "2 Innovation              Positive vs Negative            Innovation    \n",
       "3 Innovation              Recommended vs Not Recommended  Innovation    \n",
       "4 Innovation              Recommended vs Not Recommended  Innovation    \n",
       "5 New indication          Recommended vs Not Recommended  New indication\n",
       "6 New Indication          Recommended  vs not Recommended New Indication\n",
       "  Type of Association Measure Association         Lower Bound of 95%CI\n",
       "1 OR                          0.30640000000000001 0.0487000           \n",
       "2 OR                          0.91900000000000004        NA           \n",
       "3 OR                          1.7010000000000001  0.6560000           \n",
       "4 RRR                         0.71399999999999997        NA           \n",
       "5 OR                          1.5589304856219153  0.2508249           \n",
       "6 OR                          2.9411764705882351  1.5873016           \n",
       "  Upper Bound of 95%CI SE    SD P-Value            \n",
       "1 1.930300                NA NA 0.60189999999999999\n",
       "2       NA             0.574 NA NS                 \n",
       "3 4.411100                NA NA NS                 \n",
       "4       NA             0.339 NA NS                 \n",
       "5 9.689085                NA NA NS                 \n",
       "6 5.555556                NA NA 1E-3               \n",
       "  Countries Assessed                                           \n",
       "1 Wales (UK)                                                   \n",
       "2 CANADA-(INESSS), CANADA-(CADTH) Scotland, UK, France         \n",
       "3 UK                                                           \n",
       "4 Australia, Canada, England, France, Germany, Scotland, Sweden\n",
       "5 Australia                                                    \n",
       "6 Australia                                                    \n",
       "  Reference                     \n",
       "1 Linley & Hughes, 2012         \n",
       "2 Mills, 2023                   \n",
       "3 H. Dakin, Devlin, et al., 2015\n",
       "4 Kanavos et al., 2023          \n",
       "5 Haque et al., 2023            \n",
       "6 Chim et al., 2010             "
      ]
     },
     "metadata": {},
     "output_type": "display_data"
    }
   ],
   "source": [
    "# Define the file path\n",
    "file_path <- here(\"parameters_extracted_python_graphs.xlsx\")\n",
    "\n",
    "# Load the dataset\n",
    "dataset <- read_excel(file_path)\n",
    "\n",
    "# Display the first few rows to check the data\n",
    "head(dataset)"
   ]
  },
  {
   "cell_type": "code",
   "execution_count": 32,
   "metadata": {
    "vscode": {
     "languageId": "r"
    }
   },
   "outputs": [
    {
     "name": "stderr",
     "output_type": "stream",
     "text": [
      "Warning message:\n",
      "\"\u001b[1m\u001b[22mThere were 2 warnings in `mutate()`.\n",
      "The first warning was:\n",
      "\u001b[1m\u001b[22m\u001b[36mℹ\u001b[39m In argument: `across(all_of(numeric_columns), ~as.numeric(as.character(.)))`.\n",
      "Caused by warning:\n",
      "\u001b[33m!\u001b[39m NAs introduced by coercion\n",
      "\u001b[1m\u001b[22m\u001b[36mℹ\u001b[39m Run `dplyr::last_dplyr_warnings()` to see the 1 remaining warning.\"\n"
     ]
    },
    {
     "data": {
      "text/html": [
       "<table class=\"dataframe\">\n",
       "<caption>A tibble: 6 × 12</caption>\n",
       "<thead>\n",
       "\t<tr><th scope=col>Broader Driver Category</th><th scope=col>Comparison</th><th scope=col>Driver</th><th scope=col>Type of Association Measure</th><th scope=col>Association</th><th scope=col>Lower Bound of 95%CI</th><th scope=col>Upper Bound of 95%CI</th><th scope=col>SE</th><th scope=col>SD</th><th scope=col>P-Value</th><th scope=col>Countries Assessed</th><th scope=col>Reference</th></tr>\n",
       "\t<tr><th scope=col>&lt;chr&gt;</th><th scope=col>&lt;chr&gt;</th><th scope=col>&lt;chr&gt;</th><th scope=col>&lt;chr&gt;</th><th scope=col>&lt;dbl&gt;</th><th scope=col>&lt;dbl&gt;</th><th scope=col>&lt;dbl&gt;</th><th scope=col>&lt;dbl&gt;</th><th scope=col>&lt;dbl&gt;</th><th scope=col>&lt;dbl&gt;</th><th scope=col>&lt;chr&gt;</th><th scope=col>&lt;chr&gt;</th></tr>\n",
       "</thead>\n",
       "<tbody>\n",
       "\t<tr><td><span style=white-space:pre-wrap>Innovation    </span></td><td>Recommended vs Not Recommended </td><td><span style=white-space:pre-wrap>Innovation    </span></td><td>OR </td><td>0.306400</td><td>0.0487000</td><td>1.930300</td><td><span style=white-space:pre-wrap>   NA</span></td><td>NA</td><td>0.6019</td><td><span style=white-space:pre-wrap>Wales (UK)                                                   </span></td><td><span style=white-space:pre-wrap>Linley &amp; Hughes, 2012         </span></td></tr>\n",
       "\t<tr><td>Innovation    </td><td>Positive vs Negative           </td><td>Innovation    </td><td>OR </td><td>0.919000</td><td>       NA</td><td>      NA</td><td>0.574</td><td>NA</td><td>    NA</td><td>CANADA-(INESSS), CANADA-(CADTH) Scotland, UK, France         </td><td>Mills, 2023                   </td></tr>\n",
       "\t<tr><td>Innovation    </td><td>Recommended vs Not Recommended </td><td>Innovation    </td><td>OR </td><td>1.701000</td><td>0.6560000</td><td>4.411100</td><td>   NA</td><td>NA</td><td>    NA</td><td>UK                                                           </td><td>H. Dakin, Devlin, et al., 2015</td></tr>\n",
       "\t<tr><td>Innovation    </td><td>Recommended vs Not Recommended </td><td>Innovation    </td><td>RRR</td><td>0.714000</td><td>       NA</td><td>      NA</td><td>0.339</td><td>NA</td><td>    NA</td><td>Australia, Canada, England, France, Germany, Scotland, Sweden</td><td>Kanavos et al., 2023          </td></tr>\n",
       "\t<tr><td>New indication</td><td>Recommended vs Not Recommended </td><td>New indication</td><td>OR </td><td>1.558930</td><td>0.2508249</td><td>9.689085</td><td>   NA</td><td>NA</td><td>    NA</td><td>Australia                                                    </td><td>Haque et al., 2023            </td></tr>\n",
       "\t<tr><td>New Indication</td><td>Recommended  vs not Recommended</td><td>New Indication</td><td>OR </td><td>2.941176</td><td>1.5873016</td><td>5.555556</td><td>   NA</td><td>NA</td><td>0.0010</td><td>Australia                                                    </td><td>Chim et al., 2010             </td></tr>\n",
       "</tbody>\n",
       "</table>\n"
      ],
      "text/latex": [
       "A tibble: 6 × 12\n",
       "\\begin{tabular}{llllllllllll}\n",
       " Broader Driver Category & Comparison & Driver & Type of Association Measure & Association & Lower Bound of 95\\%CI & Upper Bound of 95\\%CI & SE & SD & P-Value & Countries Assessed & Reference\\\\\n",
       " <chr> & <chr> & <chr> & <chr> & <dbl> & <dbl> & <dbl> & <dbl> & <dbl> & <dbl> & <chr> & <chr>\\\\\n",
       "\\hline\n",
       "\t Innovation     & Recommended vs Not Recommended  & Innovation     & OR  & 0.306400 & 0.0487000 & 1.930300 &    NA & NA & 0.6019 & Wales (UK)                                                    & Linley \\& Hughes, 2012         \\\\\n",
       "\t Innovation     & Positive vs Negative            & Innovation     & OR  & 0.919000 &        NA &       NA & 0.574 & NA &     NA & CANADA-(INESSS), CANADA-(CADTH) Scotland, UK, France          & Mills, 2023                   \\\\\n",
       "\t Innovation     & Recommended vs Not Recommended  & Innovation     & OR  & 1.701000 & 0.6560000 & 4.411100 &    NA & NA &     NA & UK                                                            & H. Dakin, Devlin, et al., 2015\\\\\n",
       "\t Innovation     & Recommended vs Not Recommended  & Innovation     & RRR & 0.714000 &        NA &       NA & 0.339 & NA &     NA & Australia, Canada, England, France, Germany, Scotland, Sweden & Kanavos et al., 2023          \\\\\n",
       "\t New indication & Recommended vs Not Recommended  & New indication & OR  & 1.558930 & 0.2508249 & 9.689085 &    NA & NA &     NA & Australia                                                     & Haque et al., 2023            \\\\\n",
       "\t New Indication & Recommended  vs not Recommended & New Indication & OR  & 2.941176 & 1.5873016 & 5.555556 &    NA & NA & 0.0010 & Australia                                                     & Chim et al., 2010             \\\\\n",
       "\\end{tabular}\n"
      ],
      "text/markdown": [
       "\n",
       "A tibble: 6 × 12\n",
       "\n",
       "| Broader Driver Category &lt;chr&gt; | Comparison &lt;chr&gt; | Driver &lt;chr&gt; | Type of Association Measure &lt;chr&gt; | Association &lt;dbl&gt; | Lower Bound of 95%CI &lt;dbl&gt; | Upper Bound of 95%CI &lt;dbl&gt; | SE &lt;dbl&gt; | SD &lt;dbl&gt; | P-Value &lt;dbl&gt; | Countries Assessed &lt;chr&gt; | Reference &lt;chr&gt; |\n",
       "|---|---|---|---|---|---|---|---|---|---|---|---|\n",
       "| Innovation     | Recommended vs Not Recommended  | Innovation     | OR  | 0.306400 | 0.0487000 | 1.930300 |    NA | NA | 0.6019 | Wales (UK)                                                    | Linley &amp; Hughes, 2012          |\n",
       "| Innovation     | Positive vs Negative            | Innovation     | OR  | 0.919000 |        NA |       NA | 0.574 | NA |     NA | CANADA-(INESSS), CANADA-(CADTH) Scotland, UK, France          | Mills, 2023                    |\n",
       "| Innovation     | Recommended vs Not Recommended  | Innovation     | OR  | 1.701000 | 0.6560000 | 4.411100 |    NA | NA |     NA | UK                                                            | H. Dakin, Devlin, et al., 2015 |\n",
       "| Innovation     | Recommended vs Not Recommended  | Innovation     | RRR | 0.714000 |        NA |       NA | 0.339 | NA |     NA | Australia, Canada, England, France, Germany, Scotland, Sweden | Kanavos et al., 2023           |\n",
       "| New indication | Recommended vs Not Recommended  | New indication | OR  | 1.558930 | 0.2508249 | 9.689085 |    NA | NA |     NA | Australia                                                     | Haque et al., 2023             |\n",
       "| New Indication | Recommended  vs not Recommended | New Indication | OR  | 2.941176 | 1.5873016 | 5.555556 |    NA | NA | 0.0010 | Australia                                                     | Chim et al., 2010              |\n",
       "\n"
      ],
      "text/plain": [
       "  Broader Driver Category Comparison                      Driver        \n",
       "1 Innovation              Recommended vs Not Recommended  Innovation    \n",
       "2 Innovation              Positive vs Negative            Innovation    \n",
       "3 Innovation              Recommended vs Not Recommended  Innovation    \n",
       "4 Innovation              Recommended vs Not Recommended  Innovation    \n",
       "5 New indication          Recommended vs Not Recommended  New indication\n",
       "6 New Indication          Recommended  vs not Recommended New Indication\n",
       "  Type of Association Measure Association Lower Bound of 95%CI\n",
       "1 OR                          0.306400    0.0487000           \n",
       "2 OR                          0.919000           NA           \n",
       "3 OR                          1.701000    0.6560000           \n",
       "4 RRR                         0.714000           NA           \n",
       "5 OR                          1.558930    0.2508249           \n",
       "6 OR                          2.941176    1.5873016           \n",
       "  Upper Bound of 95%CI SE    SD P-Value\n",
       "1 1.930300                NA NA 0.6019 \n",
       "2       NA             0.574 NA     NA \n",
       "3 4.411100                NA NA     NA \n",
       "4       NA             0.339 NA     NA \n",
       "5 9.689085                NA NA     NA \n",
       "6 5.555556                NA NA 0.0010 \n",
       "  Countries Assessed                                           \n",
       "1 Wales (UK)                                                   \n",
       "2 CANADA-(INESSS), CANADA-(CADTH) Scotland, UK, France         \n",
       "3 UK                                                           \n",
       "4 Australia, Canada, England, France, Germany, Scotland, Sweden\n",
       "5 Australia                                                    \n",
       "6 Australia                                                    \n",
       "  Reference                     \n",
       "1 Linley & Hughes, 2012         \n",
       "2 Mills, 2023                   \n",
       "3 H. Dakin, Devlin, et al., 2015\n",
       "4 Kanavos et al., 2023          \n",
       "5 Haque et al., 2023            \n",
       "6 Chim et al., 2010             "
      ]
     },
     "metadata": {},
     "output_type": "display_data"
    }
   ],
   "source": [
    "# Convert necessary columns to numeric\n",
    "numeric_columns <- c(\"Association\", \"Lower Bound of 95%CI\", \"Upper Bound of 95%CI\", \"P-Value\")\n",
    "\n",
    "# Use mutate to convert and handle any non-numeric values by coercing them to NA\n",
    "dataset <- dataset %>%\n",
    "  mutate(across(all_of(numeric_columns), ~ as.numeric(as.character(.))))\n",
    "\n",
    "# Check the updated dataset\n",
    "head(dataset)  # View the first few rows"
   ]
  },
  {
   "cell_type": "markdown",
   "metadata": {},
   "source": [
    "ICER PLOT"
   ]
  },
  {
   "cell_type": "code",
   "execution_count": 33,
   "metadata": {
    "vscode": {
     "languageId": "r"
    }
   },
   "outputs": [
    {
     "data": {
      "text/html": [
       "<table class=\"dataframe\">\n",
       "<caption>A tibble: 9 × 12</caption>\n",
       "<thead>\n",
       "\t<tr><th scope=col>Broader Driver Category</th><th scope=col>Comparison</th><th scope=col>Driver</th><th scope=col>Type of Association Measure</th><th scope=col>Association</th><th scope=col>Lower Bound of 95%CI</th><th scope=col>Upper Bound of 95%CI</th><th scope=col>SE</th><th scope=col>SD</th><th scope=col>P-Value</th><th scope=col>Countries Assessed</th><th scope=col>Reference</th></tr>\n",
       "\t<tr><th scope=col>&lt;chr&gt;</th><th scope=col>&lt;chr&gt;</th><th scope=col>&lt;chr&gt;</th><th scope=col>&lt;chr&gt;</th><th scope=col>&lt;dbl&gt;</th><th scope=col>&lt;dbl&gt;</th><th scope=col>&lt;dbl&gt;</th><th scope=col>&lt;dbl&gt;</th><th scope=col>&lt;dbl&gt;</th><th scope=col>&lt;dbl&gt;</th><th scope=col>&lt;chr&gt;</th><th scope=col>&lt;chr&gt;</th></tr>\n",
       "</thead>\n",
       "<tbody>\n",
       "\t<tr><td>ICER (10K int$ / QALY)</td><td>Approved Reimbursement vs Declined Reimbursement</td><td>ICER (per $10,000 / QALY)          </td><td>OR </td><td>0.920000000</td><td>0.8600000000</td><td>0.98000000</td><td>       NA</td><td>       NA</td><td>0.050</td><td>Norway     </td><td>Tranvåg et al., 2022            </td></tr>\n",
       "\t<tr><td>ICER (10K int$ / QALY)</td><td>Recommended vs Not Recommended                  </td><td>ICER                               </td><td>OR </td><td>0.578316206</td><td>0.4516063922</td><td>0.74522307</td><td>       NA</td><td>       NA</td><td>0.050</td><td>UK         </td><td>H. Dakin, Devlin, et al., 2015  </td></tr>\n",
       "\t<tr><td>ICER (10K int$ / QALY)</td><td><span style=white-space:pre-wrap>Recommended vs Not Recommended (reversed)       </span></td><td><span style=white-space:pre-wrap>ICER                               </span></td><td>RRR</td><td>0.542886511</td><td>0.7446093876</td><td>0.39860149</td><td><span style=white-space:pre-wrap>       NA</span></td><td><span style=white-space:pre-wrap>       NA</span></td><td>0.009</td><td><span style=white-space:pre-wrap>UK         </span></td><td>Cerri, Knapp, &amp; Fernandez, 2014b</td></tr>\n",
       "\t<tr><td>ICER (10K int$ / QALY)</td><td>Reimbursed vs not Reimbursed                    </td><td>ICER                               </td><td>OR </td><td>0.268573780</td><td>0.0924848595</td><td>0.78116814</td><td>       NA</td><td>       NA</td><td>0.050</td><td>South Korea</td><td>Bae et al., 2018                </td></tr>\n",
       "\t<tr><td>ICER (10K int$ / QALY)</td><td>Positive vs Negative                            </td><td>ICER                               </td><td>OR </td><td>0.497549177</td><td>0.3534155527</td><td>0.70046488</td><td>       NA</td><td>       NA</td><td>0.050</td><td>Ireland    </td><td>Schmitz et al., 2016            </td></tr>\n",
       "\t<tr><td>ICER (10K int$ / QALY)</td><td>Reimbursement vs not Reimbursement              </td><td>ICER – Cost / QALY                 </td><td>OR </td><td>0.917811775</td><td>0.8687922640</td><td>0.96959709</td><td>0.8515305</td><td>0.9653351</td><td>0.050</td><td>Sweden     </td><td>Strand et al., 2022             </td></tr>\n",
       "\t<tr><td>ICER (10K int$ / QALY)</td><td>Recommended vs Not Recommended                  </td><td>ICER – COST PER QALY (£, thousands)</td><td>OR </td><td>0.760323461</td><td>0.6902983956</td><td>0.83833868</td><td>       NA</td><td>       NA</td><td>0.050</td><td>UK         </td><td>Mauskopf et al., 2013           </td></tr>\n",
       "\t<tr><td>ICER (10K int$ / QALY)</td><td>Approved Reimbursement vs Declined Reimbursement</td><td>ICER = COST / QALY                 </td><td>OR </td><td>0.532422426</td><td>0.3740760391</td><td>0.75779684</td><td>       NA</td><td>       NA</td><td>0.010</td><td>Sweden     </td><td>Svensson et al., 2015           </td></tr>\n",
       "\t<tr><td>ICER (10K int$ / QALY)</td><td>Recommended vs not Recommended                  </td><td>ICER = COST / QALY                 </td><td>OR </td><td>0.002381569</td><td>0.0001433585</td><td>0.03464347</td><td>       NA</td><td>       NA</td><td>0.010</td><td>Australia  </td><td>A. Harris et al., 2016          </td></tr>\n",
       "</tbody>\n",
       "</table>\n"
      ],
      "text/latex": [
       "A tibble: 9 × 12\n",
       "\\begin{tabular}{llllllllllll}\n",
       " Broader Driver Category & Comparison & Driver & Type of Association Measure & Association & Lower Bound of 95\\%CI & Upper Bound of 95\\%CI & SE & SD & P-Value & Countries Assessed & Reference\\\\\n",
       " <chr> & <chr> & <chr> & <chr> & <dbl> & <dbl> & <dbl> & <dbl> & <dbl> & <dbl> & <chr> & <chr>\\\\\n",
       "\\hline\n",
       "\t ICER (10K int\\$ / QALY) & Approved Reimbursement vs Declined Reimbursement & ICER (per \\$10,000 / QALY)           & OR  & 0.920000000 & 0.8600000000 & 0.98000000 &        NA &        NA & 0.050 & Norway      & Tranvåg et al., 2022            \\\\\n",
       "\t ICER (10K int\\$ / QALY) & Recommended vs Not Recommended                   & ICER                                & OR  & 0.578316206 & 0.4516063922 & 0.74522307 &        NA &        NA & 0.050 & UK          & H. Dakin, Devlin, et al., 2015  \\\\\n",
       "\t ICER (10K int\\$ / QALY) & Recommended vs Not Recommended (reversed)        & ICER                                & RRR & 0.542886511 & 0.7446093876 & 0.39860149 &        NA &        NA & 0.009 & UK          & Cerri, Knapp, \\& Fernandez, 2014b\\\\\n",
       "\t ICER (10K int\\$ / QALY) & Reimbursed vs not Reimbursed                     & ICER                                & OR  & 0.268573780 & 0.0924848595 & 0.78116814 &        NA &        NA & 0.050 & South Korea & Bae et al., 2018                \\\\\n",
       "\t ICER (10K int\\$ / QALY) & Positive vs Negative                             & ICER                                & OR  & 0.497549177 & 0.3534155527 & 0.70046488 &        NA &        NA & 0.050 & Ireland     & Schmitz et al., 2016            \\\\\n",
       "\t ICER (10K int\\$ / QALY) & Reimbursement vs not Reimbursement               & ICER – Cost / QALY                  & OR  & 0.917811775 & 0.8687922640 & 0.96959709 & 0.8515305 & 0.9653351 & 0.050 & Sweden      & Strand et al., 2022             \\\\\n",
       "\t ICER (10K int\\$ / QALY) & Recommended vs Not Recommended                   & ICER – COST PER QALY (£, thousands) & OR  & 0.760323461 & 0.6902983956 & 0.83833868 &        NA &        NA & 0.050 & UK          & Mauskopf et al., 2013           \\\\\n",
       "\t ICER (10K int\\$ / QALY) & Approved Reimbursement vs Declined Reimbursement & ICER = COST / QALY                  & OR  & 0.532422426 & 0.3740760391 & 0.75779684 &        NA &        NA & 0.010 & Sweden      & Svensson et al., 2015           \\\\\n",
       "\t ICER (10K int\\$ / QALY) & Recommended vs not Recommended                   & ICER = COST / QALY                  & OR  & 0.002381569 & 0.0001433585 & 0.03464347 &        NA &        NA & 0.010 & Australia   & A. Harris et al., 2016          \\\\\n",
       "\\end{tabular}\n"
      ],
      "text/markdown": [
       "\n",
       "A tibble: 9 × 12\n",
       "\n",
       "| Broader Driver Category &lt;chr&gt; | Comparison &lt;chr&gt; | Driver &lt;chr&gt; | Type of Association Measure &lt;chr&gt; | Association &lt;dbl&gt; | Lower Bound of 95%CI &lt;dbl&gt; | Upper Bound of 95%CI &lt;dbl&gt; | SE &lt;dbl&gt; | SD &lt;dbl&gt; | P-Value &lt;dbl&gt; | Countries Assessed &lt;chr&gt; | Reference &lt;chr&gt; |\n",
       "|---|---|---|---|---|---|---|---|---|---|---|---|\n",
       "| ICER (10K int$ / QALY) | Approved Reimbursement vs Declined Reimbursement | ICER (per $10,000 / QALY)           | OR  | 0.920000000 | 0.8600000000 | 0.98000000 |        NA |        NA | 0.050 | Norway      | Tranvåg et al., 2022             |\n",
       "| ICER (10K int$ / QALY) | Recommended vs Not Recommended                   | ICER                                | OR  | 0.578316206 | 0.4516063922 | 0.74522307 |        NA |        NA | 0.050 | UK          | H. Dakin, Devlin, et al., 2015   |\n",
       "| ICER (10K int$ / QALY) | Recommended vs Not Recommended (reversed)        | ICER                                | RRR | 0.542886511 | 0.7446093876 | 0.39860149 |        NA |        NA | 0.009 | UK          | Cerri, Knapp, &amp; Fernandez, 2014b |\n",
       "| ICER (10K int$ / QALY) | Reimbursed vs not Reimbursed                     | ICER                                | OR  | 0.268573780 | 0.0924848595 | 0.78116814 |        NA |        NA | 0.050 | South Korea | Bae et al., 2018                 |\n",
       "| ICER (10K int$ / QALY) | Positive vs Negative                             | ICER                                | OR  | 0.497549177 | 0.3534155527 | 0.70046488 |        NA |        NA | 0.050 | Ireland     | Schmitz et al., 2016             |\n",
       "| ICER (10K int$ / QALY) | Reimbursement vs not Reimbursement               | ICER – Cost / QALY                  | OR  | 0.917811775 | 0.8687922640 | 0.96959709 | 0.8515305 | 0.9653351 | 0.050 | Sweden      | Strand et al., 2022              |\n",
       "| ICER (10K int$ / QALY) | Recommended vs Not Recommended                   | ICER – COST PER QALY (£, thousands) | OR  | 0.760323461 | 0.6902983956 | 0.83833868 |        NA |        NA | 0.050 | UK          | Mauskopf et al., 2013            |\n",
       "| ICER (10K int$ / QALY) | Approved Reimbursement vs Declined Reimbursement | ICER = COST / QALY                  | OR  | 0.532422426 | 0.3740760391 | 0.75779684 |        NA |        NA | 0.010 | Sweden      | Svensson et al., 2015            |\n",
       "| ICER (10K int$ / QALY) | Recommended vs not Recommended                   | ICER = COST / QALY                  | OR  | 0.002381569 | 0.0001433585 | 0.03464347 |        NA |        NA | 0.010 | Australia   | A. Harris et al., 2016           |\n",
       "\n"
      ],
      "text/plain": [
       "  Broader Driver Category Comparison                                      \n",
       "1 ICER (10K int$ / QALY)  Approved Reimbursement vs Declined Reimbursement\n",
       "2 ICER (10K int$ / QALY)  Recommended vs Not Recommended                  \n",
       "3 ICER (10K int$ / QALY)  Recommended vs Not Recommended (reversed)       \n",
       "4 ICER (10K int$ / QALY)  Reimbursed vs not Reimbursed                    \n",
       "5 ICER (10K int$ / QALY)  Positive vs Negative                            \n",
       "6 ICER (10K int$ / QALY)  Reimbursement vs not Reimbursement              \n",
       "7 ICER (10K int$ / QALY)  Recommended vs Not Recommended                  \n",
       "8 ICER (10K int$ / QALY)  Approved Reimbursement vs Declined Reimbursement\n",
       "9 ICER (10K int$ / QALY)  Recommended vs not Recommended                  \n",
       "  Driver                              Type of Association Measure Association\n",
       "1 ICER (per $10,000 / QALY)           OR                          0.920000000\n",
       "2 ICER                                OR                          0.578316206\n",
       "3 ICER                                RRR                         0.542886511\n",
       "4 ICER                                OR                          0.268573780\n",
       "5 ICER                                OR                          0.497549177\n",
       "6 ICER – Cost / QALY                  OR                          0.917811775\n",
       "7 ICER – COST PER QALY (£, thousands) OR                          0.760323461\n",
       "8 ICER = COST / QALY                  OR                          0.532422426\n",
       "9 ICER = COST / QALY                  OR                          0.002381569\n",
       "  Lower Bound of 95%CI Upper Bound of 95%CI SE        SD        P-Value\n",
       "1 0.8600000000         0.98000000                  NA        NA 0.050  \n",
       "2 0.4516063922         0.74522307                  NA        NA 0.050  \n",
       "3 0.7446093876         0.39860149                  NA        NA 0.009  \n",
       "4 0.0924848595         0.78116814                  NA        NA 0.050  \n",
       "5 0.3534155527         0.70046488                  NA        NA 0.050  \n",
       "6 0.8687922640         0.96959709           0.8515305 0.9653351 0.050  \n",
       "7 0.6902983956         0.83833868                  NA        NA 0.050  \n",
       "8 0.3740760391         0.75779684                  NA        NA 0.010  \n",
       "9 0.0001433585         0.03464347                  NA        NA 0.010  \n",
       "  Countries Assessed Reference                       \n",
       "1 Norway             Tranvåg et al., 2022            \n",
       "2 UK                 H. Dakin, Devlin, et al., 2015  \n",
       "3 UK                 Cerri, Knapp, & Fernandez, 2014b\n",
       "4 South Korea        Bae et al., 2018                \n",
       "5 Ireland            Schmitz et al., 2016            \n",
       "6 Sweden             Strand et al., 2022             \n",
       "7 UK                 Mauskopf et al., 2013           \n",
       "8 Sweden             Svensson et al., 2015           \n",
       "9 Australia          A. Harris et al., 2016          "
      ]
     },
     "metadata": {},
     "output_type": "display_data"
    }
   ],
   "source": [
    "# Filter dataset for \"ICER (10K int$ / QALY)\" and keep only OR or RRR\n",
    "icer_data <- dataset %>%\n",
    "  filter(\n",
    "    `Broader Driver Category` == \"ICER (10K int$ / QALY)\" & \n",
    "    `Type of Association Measure` %in% c(\"OR\", \"RRR\")\n",
    "  )\n",
    "\n",
    "# Preview the filtered dataset\n",
    "icer_data\n"
   ]
  },
  {
   "cell_type": "code",
   "execution_count": 34,
   "metadata": {
    "vscode": {
     "languageId": "r"
    }
   },
   "outputs": [
    {
     "data": {
      "text/html": [
       "<table class=\"dataframe\">\n",
       "<caption>A tibble: 9 × 12</caption>\n",
       "<thead>\n",
       "\t<tr><th scope=col>Broader Driver Category</th><th scope=col>Comparison</th><th scope=col>Driver</th><th scope=col>Type of Association Measure</th><th scope=col>Association</th><th scope=col>Lower Bound of 95%CI</th><th scope=col>Upper Bound of 95%CI</th><th scope=col>SE</th><th scope=col>SD</th><th scope=col>P-Value</th><th scope=col>Countries Assessed</th><th scope=col>Reference</th></tr>\n",
       "\t<tr><th scope=col>&lt;chr&gt;</th><th scope=col>&lt;chr&gt;</th><th scope=col>&lt;chr&gt;</th><th scope=col>&lt;chr&gt;</th><th scope=col>&lt;dbl&gt;</th><th scope=col>&lt;dbl&gt;</th><th scope=col>&lt;dbl&gt;</th><th scope=col>&lt;dbl&gt;</th><th scope=col>&lt;dbl&gt;</th><th scope=col>&lt;dbl&gt;</th><th scope=col>&lt;chr&gt;</th><th scope=col>&lt;chr&gt;</th></tr>\n",
       "</thead>\n",
       "<tbody>\n",
       "\t<tr><td>ICER (10K int$ / QALY)</td><td>Recommended vs not Recommended                  </td><td>ICER = COST / QALY                 </td><td>OR </td><td>0.002381569</td><td>0.0001433585</td><td>0.03464347</td><td>       NA</td><td>       NA</td><td>0.010</td><td>Australia  </td><td>A. Harris et al., 2016          </td></tr>\n",
       "\t<tr><td>ICER (10K int$ / QALY)</td><td>Reimbursed vs not Reimbursed                    </td><td>ICER                               </td><td>OR </td><td>0.268573780</td><td>0.0924848595</td><td>0.78116814</td><td>       NA</td><td>       NA</td><td>0.050</td><td>South Korea</td><td>Bae et al., 2018                </td></tr>\n",
       "\t<tr><td>ICER (10K int$ / QALY)</td><td>Positive vs Negative                            </td><td>ICER                               </td><td>OR </td><td>0.497549177</td><td>0.3534155527</td><td>0.70046488</td><td>       NA</td><td>       NA</td><td>0.050</td><td>Ireland    </td><td>Schmitz et al., 2016            </td></tr>\n",
       "\t<tr><td>ICER (10K int$ / QALY)</td><td>Approved Reimbursement vs Declined Reimbursement</td><td>ICER = COST / QALY                 </td><td>OR </td><td>0.532422426</td><td>0.3740760391</td><td>0.75779684</td><td>       NA</td><td>       NA</td><td>0.010</td><td>Sweden     </td><td>Svensson et al., 2015           </td></tr>\n",
       "\t<tr><td>ICER (10K int$ / QALY)</td><td><span style=white-space:pre-wrap>Recommended vs Not Recommended (reversed)       </span></td><td><span style=white-space:pre-wrap>ICER                               </span></td><td>RRR</td><td>0.542886511</td><td>0.7446093876</td><td>0.39860149</td><td><span style=white-space:pre-wrap>       NA</span></td><td><span style=white-space:pre-wrap>       NA</span></td><td>0.009</td><td><span style=white-space:pre-wrap>UK         </span></td><td>Cerri, Knapp, &amp; Fernandez, 2014b</td></tr>\n",
       "\t<tr><td>ICER (10K int$ / QALY)</td><td>Recommended vs Not Recommended                  </td><td>ICER                               </td><td>OR </td><td>0.578316206</td><td>0.4516063922</td><td>0.74522307</td><td>       NA</td><td>       NA</td><td>0.050</td><td>UK         </td><td>H. Dakin, Devlin, et al., 2015  </td></tr>\n",
       "\t<tr><td>ICER (10K int$ / QALY)</td><td>Recommended vs Not Recommended                  </td><td>ICER – COST PER QALY (£, thousands)</td><td>OR </td><td>0.760323461</td><td>0.6902983956</td><td>0.83833868</td><td>       NA</td><td>       NA</td><td>0.050</td><td>UK         </td><td>Mauskopf et al., 2013           </td></tr>\n",
       "\t<tr><td>ICER (10K int$ / QALY)</td><td>Reimbursement vs not Reimbursement              </td><td>ICER – Cost / QALY                 </td><td>OR </td><td>0.917811775</td><td>0.8687922640</td><td>0.96959709</td><td>0.8515305</td><td>0.9653351</td><td>0.050</td><td>Sweden     </td><td>Strand et al., 2022             </td></tr>\n",
       "\t<tr><td>ICER (10K int$ / QALY)</td><td>Approved Reimbursement vs Declined Reimbursement</td><td>ICER (per $10,000 / QALY)          </td><td>OR </td><td>0.920000000</td><td>0.8600000000</td><td>0.98000000</td><td>       NA</td><td>       NA</td><td>0.050</td><td>Norway     </td><td>Tranvåg et al., 2022            </td></tr>\n",
       "</tbody>\n",
       "</table>\n"
      ],
      "text/latex": [
       "A tibble: 9 × 12\n",
       "\\begin{tabular}{llllllllllll}\n",
       " Broader Driver Category & Comparison & Driver & Type of Association Measure & Association & Lower Bound of 95\\%CI & Upper Bound of 95\\%CI & SE & SD & P-Value & Countries Assessed & Reference\\\\\n",
       " <chr> & <chr> & <chr> & <chr> & <dbl> & <dbl> & <dbl> & <dbl> & <dbl> & <dbl> & <chr> & <chr>\\\\\n",
       "\\hline\n",
       "\t ICER (10K int\\$ / QALY) & Recommended vs not Recommended                   & ICER = COST / QALY                  & OR  & 0.002381569 & 0.0001433585 & 0.03464347 &        NA &        NA & 0.010 & Australia   & A. Harris et al., 2016          \\\\\n",
       "\t ICER (10K int\\$ / QALY) & Reimbursed vs not Reimbursed                     & ICER                                & OR  & 0.268573780 & 0.0924848595 & 0.78116814 &        NA &        NA & 0.050 & South Korea & Bae et al., 2018                \\\\\n",
       "\t ICER (10K int\\$ / QALY) & Positive vs Negative                             & ICER                                & OR  & 0.497549177 & 0.3534155527 & 0.70046488 &        NA &        NA & 0.050 & Ireland     & Schmitz et al., 2016            \\\\\n",
       "\t ICER (10K int\\$ / QALY) & Approved Reimbursement vs Declined Reimbursement & ICER = COST / QALY                  & OR  & 0.532422426 & 0.3740760391 & 0.75779684 &        NA &        NA & 0.010 & Sweden      & Svensson et al., 2015           \\\\\n",
       "\t ICER (10K int\\$ / QALY) & Recommended vs Not Recommended (reversed)        & ICER                                & RRR & 0.542886511 & 0.7446093876 & 0.39860149 &        NA &        NA & 0.009 & UK          & Cerri, Knapp, \\& Fernandez, 2014b\\\\\n",
       "\t ICER (10K int\\$ / QALY) & Recommended vs Not Recommended                   & ICER                                & OR  & 0.578316206 & 0.4516063922 & 0.74522307 &        NA &        NA & 0.050 & UK          & H. Dakin, Devlin, et al., 2015  \\\\\n",
       "\t ICER (10K int\\$ / QALY) & Recommended vs Not Recommended                   & ICER – COST PER QALY (£, thousands) & OR  & 0.760323461 & 0.6902983956 & 0.83833868 &        NA &        NA & 0.050 & UK          & Mauskopf et al., 2013           \\\\\n",
       "\t ICER (10K int\\$ / QALY) & Reimbursement vs not Reimbursement               & ICER – Cost / QALY                  & OR  & 0.917811775 & 0.8687922640 & 0.96959709 & 0.8515305 & 0.9653351 & 0.050 & Sweden      & Strand et al., 2022             \\\\\n",
       "\t ICER (10K int\\$ / QALY) & Approved Reimbursement vs Declined Reimbursement & ICER (per \\$10,000 / QALY)           & OR  & 0.920000000 & 0.8600000000 & 0.98000000 &        NA &        NA & 0.050 & Norway      & Tranvåg et al., 2022            \\\\\n",
       "\\end{tabular}\n"
      ],
      "text/markdown": [
       "\n",
       "A tibble: 9 × 12\n",
       "\n",
       "| Broader Driver Category &lt;chr&gt; | Comparison &lt;chr&gt; | Driver &lt;chr&gt; | Type of Association Measure &lt;chr&gt; | Association &lt;dbl&gt; | Lower Bound of 95%CI &lt;dbl&gt; | Upper Bound of 95%CI &lt;dbl&gt; | SE &lt;dbl&gt; | SD &lt;dbl&gt; | P-Value &lt;dbl&gt; | Countries Assessed &lt;chr&gt; | Reference &lt;chr&gt; |\n",
       "|---|---|---|---|---|---|---|---|---|---|---|---|\n",
       "| ICER (10K int$ / QALY) | Recommended vs not Recommended                   | ICER = COST / QALY                  | OR  | 0.002381569 | 0.0001433585 | 0.03464347 |        NA |        NA | 0.010 | Australia   | A. Harris et al., 2016           |\n",
       "| ICER (10K int$ / QALY) | Reimbursed vs not Reimbursed                     | ICER                                | OR  | 0.268573780 | 0.0924848595 | 0.78116814 |        NA |        NA | 0.050 | South Korea | Bae et al., 2018                 |\n",
       "| ICER (10K int$ / QALY) | Positive vs Negative                             | ICER                                | OR  | 0.497549177 | 0.3534155527 | 0.70046488 |        NA |        NA | 0.050 | Ireland     | Schmitz et al., 2016             |\n",
       "| ICER (10K int$ / QALY) | Approved Reimbursement vs Declined Reimbursement | ICER = COST / QALY                  | OR  | 0.532422426 | 0.3740760391 | 0.75779684 |        NA |        NA | 0.010 | Sweden      | Svensson et al., 2015            |\n",
       "| ICER (10K int$ / QALY) | Recommended vs Not Recommended (reversed)        | ICER                                | RRR | 0.542886511 | 0.7446093876 | 0.39860149 |        NA |        NA | 0.009 | UK          | Cerri, Knapp, &amp; Fernandez, 2014b |\n",
       "| ICER (10K int$ / QALY) | Recommended vs Not Recommended                   | ICER                                | OR  | 0.578316206 | 0.4516063922 | 0.74522307 |        NA |        NA | 0.050 | UK          | H. Dakin, Devlin, et al., 2015   |\n",
       "| ICER (10K int$ / QALY) | Recommended vs Not Recommended                   | ICER – COST PER QALY (£, thousands) | OR  | 0.760323461 | 0.6902983956 | 0.83833868 |        NA |        NA | 0.050 | UK          | Mauskopf et al., 2013            |\n",
       "| ICER (10K int$ / QALY) | Reimbursement vs not Reimbursement               | ICER – Cost / QALY                  | OR  | 0.917811775 | 0.8687922640 | 0.96959709 | 0.8515305 | 0.9653351 | 0.050 | Sweden      | Strand et al., 2022              |\n",
       "| ICER (10K int$ / QALY) | Approved Reimbursement vs Declined Reimbursement | ICER (per $10,000 / QALY)           | OR  | 0.920000000 | 0.8600000000 | 0.98000000 |        NA |        NA | 0.050 | Norway      | Tranvåg et al., 2022             |\n",
       "\n"
      ],
      "text/plain": [
       "  Broader Driver Category Comparison                                      \n",
       "1 ICER (10K int$ / QALY)  Recommended vs not Recommended                  \n",
       "2 ICER (10K int$ / QALY)  Reimbursed vs not Reimbursed                    \n",
       "3 ICER (10K int$ / QALY)  Positive vs Negative                            \n",
       "4 ICER (10K int$ / QALY)  Approved Reimbursement vs Declined Reimbursement\n",
       "5 ICER (10K int$ / QALY)  Recommended vs Not Recommended (reversed)       \n",
       "6 ICER (10K int$ / QALY)  Recommended vs Not Recommended                  \n",
       "7 ICER (10K int$ / QALY)  Recommended vs Not Recommended                  \n",
       "8 ICER (10K int$ / QALY)  Reimbursement vs not Reimbursement              \n",
       "9 ICER (10K int$ / QALY)  Approved Reimbursement vs Declined Reimbursement\n",
       "  Driver                              Type of Association Measure Association\n",
       "1 ICER = COST / QALY                  OR                          0.002381569\n",
       "2 ICER                                OR                          0.268573780\n",
       "3 ICER                                OR                          0.497549177\n",
       "4 ICER = COST / QALY                  OR                          0.532422426\n",
       "5 ICER                                RRR                         0.542886511\n",
       "6 ICER                                OR                          0.578316206\n",
       "7 ICER – COST PER QALY (£, thousands) OR                          0.760323461\n",
       "8 ICER – Cost / QALY                  OR                          0.917811775\n",
       "9 ICER (per $10,000 / QALY)           OR                          0.920000000\n",
       "  Lower Bound of 95%CI Upper Bound of 95%CI SE        SD        P-Value\n",
       "1 0.0001433585         0.03464347                  NA        NA 0.010  \n",
       "2 0.0924848595         0.78116814                  NA        NA 0.050  \n",
       "3 0.3534155527         0.70046488                  NA        NA 0.050  \n",
       "4 0.3740760391         0.75779684                  NA        NA 0.010  \n",
       "5 0.7446093876         0.39860149                  NA        NA 0.009  \n",
       "6 0.4516063922         0.74522307                  NA        NA 0.050  \n",
       "7 0.6902983956         0.83833868                  NA        NA 0.050  \n",
       "8 0.8687922640         0.96959709           0.8515305 0.9653351 0.050  \n",
       "9 0.8600000000         0.98000000                  NA        NA 0.050  \n",
       "  Countries Assessed Reference                       \n",
       "1 Australia          A. Harris et al., 2016          \n",
       "2 South Korea        Bae et al., 2018                \n",
       "3 Ireland            Schmitz et al., 2016            \n",
       "4 Sweden             Svensson et al., 2015           \n",
       "5 UK                 Cerri, Knapp, & Fernandez, 2014b\n",
       "6 UK                 H. Dakin, Devlin, et al., 2015  \n",
       "7 UK                 Mauskopf et al., 2013           \n",
       "8 Sweden             Strand et al., 2022             \n",
       "9 Norway             Tranvåg et al., 2022            "
      ]
     },
     "metadata": {},
     "output_type": "display_data"
    }
   ],
   "source": [
    "# Sort the dataset by `Association`\n",
    "icer_data <- icer_data %>% arrange(Association)\n",
    "\n",
    "# View the dataset\n",
    "icer_data"
   ]
  },
  {
   "cell_type": "code",
   "execution_count": 35,
   "metadata": {
    "vscode": {
     "languageId": "r"
    }
   },
   "outputs": [
    {
     "data": {
      "image/png": "[encoded data removed]",
      "text/plain": [
       "plot without title"
      ]
     },
     "metadata": {
      "image/png": {
       "height": 420,
       "width": 420
      }
     },
     "output_type": "display_data"
    }
   ],
   "source": [
    "#`Reference` is treated as a factor and `Association` is numeric\n",
    "icer_data$Reference <- factor(icer_data$Reference, levels = icer_data$Reference)\n",
    "icer_data$Association <- as.numeric(icer_data$Association)  # Convert to numeric\n",
    "\n",
    "#Create the forest plot\n",
    "ggplot(icer_data, aes(x = Reference, y = Association)) +\n",
    "  # Add confidence interval lines\n",
    "  geom_linerange(aes(ymin = `Lower Bound of 95%CI`, ymax = `Upper Bound of 95%CI`, color = `Countries Assessed`), \n",
    "                 position = position_dodge(width = 0.5), \n",
    "                 size = 1.) +  #line thickness\n",
    "  #Add points\n",
    "  geom_point(aes(color = `Countries Assessed`), \n",
    "             position = position_dodge(width = 0.25), \n",
    "             size = 2) +  #dot size\n",
    "  # Add line of no effect\n",
    "  geom_hline(yintercept = 1, linetype = \"dashed\", color = \"red\", size = 1) +  # thickness\n",
    "  # Flip coordinates for horizontal plot\n",
    "  coord_flip() +\n",
    "  # Labels and theme\n",
    "  labs(\n",
    "    title = \"Forest Plot: ICER (10K int$ / QALY)\",\n",
    "    x = \"Studies (Reference)\",\n",
    "    y = \"Relative Risk Ratio (RRR) / Odds Ratio (OR)\"\n",
    "  ) +\n",
    "  scale_y_continuous(breaks = seq(0, max(icer_data$Association, na.rm = TRUE), by = 0.25),  # Adjust breaks\n",
    "                     labels = scales::number_format(accuracy = 0.01)) +  # Control decimal places\n",
    "  theme_minimal(base_size = 12) +\n",
    "  theme(\n",
    "    axis.text.y = element_text(size = 10),  #study names text size\n",
    "    axis.title.y = element_text(size = 12)\n",
    "  )\n"
   ]
  },
  {
   "cell_type": "code",
   "execution_count": 36,
   "metadata": {
    "vscode": {
     "languageId": "r"
    }
   },
   "outputs": [],
   "source": [
    "# Add RRR/OR next to Reference with a \"-\" separator\n",
    "icer_data$Reference <- factor(paste0(icer_data$Reference, \" - \", icer_data$`Type of Association Measure`),\n",
    "                              levels = unique(paste0(icer_data$Reference, \" - \", icer_data$`Type of Association Measure`)))\n"
   ]
  },
  {
   "cell_type": "code",
   "execution_count": 37,
   "metadata": {
    "vscode": {
     "languageId": "r"
    }
   },
   "outputs": [
    {
     "data": {
      "image/png": "[encoded data removed]",
      "text/plain": [
       "plot without title"
      ]
     },
     "metadata": {
      "image/png": {
       "height": 420,
       "width": 420
      }
     },
     "output_type": "display_data"
    }
   ],
   "source": [
    "#`Reference` is treated as a factor and `Association` is numeric\n",
    "icer_data$Reference <- factor(icer_data$Reference, levels = icer_data$Reference)\n",
    "icer_data$Association <- as.numeric(icer_data$Association)  # Convert to numeric\n",
    "\n",
    "#Create the forest plot\n",
    "ggplot(icer_data, aes(x = Reference, y = Association)) +\n",
    "  # Add confidence interval lines\n",
    "  geom_linerange(aes(ymin = `Lower Bound of 95%CI`, ymax = `Upper Bound of 95%CI`, color = `Countries Assessed`), \n",
    "                 position = position_dodge(width = 0.5), \n",
    "                 size = 1.) +  #line thickness\n",
    "  #Add points\n",
    "  geom_point(aes(color = `Countries Assessed`), \n",
    "             position = position_dodge(width = 0.25), \n",
    "             size = 2) +  #dot size\n",
    "  # Add line of no effect\n",
    "  geom_hline(yintercept = 1, linetype = \"dashed\", color = \"red\", size = 1) +  # thickness\n",
    "  # Flip coordinates for horizontal plot\n",
    "  coord_flip() +\n",
    "  # Labels and theme\n",
    "  labs(\n",
    "    title = \"Forest Plot: ICER (10K int$ / QALY)\",\n",
    "    x = \"Studies (Reference)\",\n",
    "    y = \"Relative Risk Ratio (RRR) / Odds Ratio (OR)\"\n",
    "  ) +\n",
    "  scale_y_continuous(breaks = seq(0, max(icer_data$Association, na.rm = TRUE), by = 0.25),  # Adjust breaks\n",
    "                     labels = scales::number_format(accuracy = 0.01)) +  # Control decimal places\n",
    "  theme_minimal(base_size = 12) +\n",
    "  theme(\n",
    "    axis.text.y = element_text(size = 8),  #study names text size\n",
    "    axis.title.y = element_text(size = 12)\n",
    "  )\n"
   ]
  },
  {
   "cell_type": "markdown",
   "metadata": {},
   "source": [
    "CLINICAL UNCERTAINTIES"
   ]
  },
  {
   "cell_type": "code",
   "execution_count": 38,
   "metadata": {
    "vscode": {
     "languageId": "r"
    }
   },
   "outputs": [],
   "source": [
    "# Filter the dataset for \"Clinical Uncertainties\" and include only OR or RRR\n",
    "clinical_data <- dataset %>%\n",
    "  filter(\n",
    "    `Broader Driver Category` == \"Clinical Uncertainties\" & \n",
    "    `Type of Association Measure` %in% c(\"OR\", \"RRR\")\n",
    "  ) %>%\n",
    "  arrange(Association)\n",
    "\n",
    "# Add RRR/OR next to Reference\n",
    "clinical_data$Reference <- factor(paste0(clinical_data$Reference, \" - \", clinical_data$`Type of Association Measure`),\n",
    "                                  levels = unique(paste0(clinical_data$Reference, \" - \", clinical_data$`Type of Association Measure`)))\n",
    "\n",
    "# Ensure `Association` is numeric\n",
    "clinical_data$Association <- as.numeric(clinical_data$Association)\n"
   ]
  },
  {
   "cell_type": "code",
   "execution_count": 39,
   "metadata": {
    "vscode": {
     "languageId": "r"
    }
   },
   "outputs": [],
   "source": [
    "# Forest plot with labels but no legend\n",
    "forest_plot_with_labels <- ggplot(clinical_data, aes(x = Reference, y = Association)) +\n",
    "  # Add confidence interval lines\n",
    "  geom_linerange(aes(ymin = `Lower Bound of 95%CI`, ymax = `Upper Bound of 95%CI`, color = `Countries Assessed`), \n",
    "                 position = position_dodge(width = 0.5), \n",
    "                 size = 1) +  # Line thickness\n",
    "  # Add points\n",
    "  geom_point(aes(color = `Countries Assessed`), \n",
    "             position = position_dodge(width = 0.25), \n",
    "             size = 2) +  # Dot size\n",
    "  # Add line of no effect\n",
    "  geom_hline(yintercept = 1, linetype = \"dashed\", color = \"red\", size = 1) +  # Thickness\n",
    "  # Flip coordinates for horizontal plot\n",
    "  coord_flip() +\n",
    "  # Labels and theme\n",
    "  labs(\n",
    "    title = \"Forest Plot: Clinical Uncertainties\",\n",
    "    x = \"Studies (Reference)\",\n",
    "    y = \"Relative Risk Ratio (RRR) / Odds Ratio (OR)\",\n",
    "    color = NULL  # Remove legend title\n",
    "  ) +\n",
    "  scale_y_continuous(\n",
    "    limits = c(0, 1),  # Fixed scale\n",
    "    breaks = seq(0, 1, by = 0.1),  # Adjust tick marks\n",
    "    labels = scales::number_format(accuracy = 0.01)  # Control decimal places\n",
    "  ) +\n",
    "  theme_minimal(base_size = 12) +\n",
    "  theme(\n",
    "    legend.position = \"none\",  # Remove the legend\n",
    "    axis.text.y = element_text(size = 8),  # Study names text size\n",
    "    axis.title.y = element_text(size = 12),\n",
    "    plot.margin = margin(5, 5, 5, 5)  # Add some padding\n",
    "  )\n"
   ]
  },
  {
   "cell_type": "code",
   "execution_count": 40,
   "metadata": {
    "vscode": {
     "languageId": "r"
    }
   },
   "outputs": [],
   "source": [
    "\n",
    "\n",
    "# Create a dummy plot to extract the legend\n",
    "legend_plot <- ggplot(clinical_data, aes(x = Reference, y = Association, color = `Countries Assessed`)) +\n",
    "  geom_point() +\n",
    "  labs(color = \"Countries Assessed\") +\n",
    "  theme_minimal(base_size = 12) +\n",
    "  theme(\n",
    "    legend.key.size = unit(1, \"cm\"),  # Adjust legend key size\n",
    "    legend.text = element_text(size = 10)  # Adjust legend text size\n",
    "  )\n",
    "\n",
    "# Extract the legend\n",
    "legend <- get_legend(legend_plot)\n"
   ]
  },
  {
   "cell_type": "code",
   "execution_count": 41,
   "metadata": {
    "vscode": {
     "languageId": "r"
    }
   },
   "outputs": [
    {
     "name": "stderr",
     "output_type": "stream",
     "text": [
      "Warning message:\n",
      "\"\u001b[1m\u001b[22mRemoved 3 rows containing missing values or values outside the scale range\n",
      "(`geom_segment()`).\"\n"
     ]
    },
    {
     "data": {
      "image/png": "[encoded data removed]",
      "text/plain": [
       "plot without title"
      ]
     },
     "metadata": {
      "image/png": {
       "height": 420,
       "width": 420
      }
     },
     "output_type": "display_data"
    },
    {
     "data": {
      "image/png": "[encoded data removed]",
      "text/plain": [
       "plot without title"
      ]
     },
     "metadata": {
      "image/png": {
       "height": 420,
       "width": 420
      }
     },
     "output_type": "display_data"
    }
   ],
   "source": [
    "# Print the forest plot with labels\n",
    "print(forest_plot_with_labels)\n",
    "\n",
    "# Print the legend separately\n",
    "plot_grid(legend, ncol = 1)\n"
   ]
  },
  {
   "cell_type": "markdown",
   "metadata": {},
   "source": [
    "ONCOLOGY"
   ]
  },
  {
   "cell_type": "code",
   "execution_count": 42,
   "metadata": {
    "vscode": {
     "languageId": "r"
    }
   },
   "outputs": [],
   "source": [
    "# Filter the dataset for \"Clinical Uncertainties\" and include only OR or RRR\n",
    "clinical_data <- dataset %>%\n",
    "  filter(\n",
    "    `Broader Driver Category` == \"Oncology\" & \n",
    "    `Type of Association Measure` %in% c(\"OR\", \"RRR\")\n",
    "  ) %>%\n",
    "  arrange(Association)\n",
    "\n",
    "# Add RRR/OR next to Reference\n",
    "clinical_data$Reference <- factor(paste0(clinical_data$Reference, \" - \", clinical_data$`Type of Association Measure`),\n",
    "                                  levels = unique(paste0(clinical_data$Reference, \" - \", clinical_data$`Type of Association Measure`)))\n",
    "\n",
    "# Ensure `Association` is numeric\n",
    "clinical_data$Association <- as.numeric(clinical_data$Association)"
   ]
  },
  {
   "cell_type": "code",
   "execution_count": 43,
   "metadata": {
    "vscode": {
     "languageId": "r"
    }
   },
   "outputs": [],
   "source": [
    "# Filter the dataset for \"Oncology\" and include only OR or RRR\n",
    "oncology_data <- dataset %>%\n",
    "    filter(\n",
    "        `Broader Driver Category` == \"Oncology\" & \n",
    "        `Type of Association Measure` %in% c(\"OR\", \"RRR\")\n",
    "    ) %>%\n",
    "    arrange(Association)\n",
    "\n",
    "# Add RRR/OR next to Reference\n",
    "oncology_data$Reference <- factor(paste0(oncology_data$Reference, \" - \", oncology_data$`Type of Association Measure`),\n",
    "                                                                    levels = unique(paste0(oncology_data$Reference, \" - \", oncology_data$`Type of Association Measure`)))\n",
    "\n",
    "# Ensure `Association` is numeric\n",
    "oncology_data$Association <- as.numeric(oncology_data$Association)\n",
    "\n",
    "# Forest plot with labels but no legend\n",
    "forest_plot_with_labels <- ggplot(oncology_data, aes(x = Reference, y = Association)) +\n",
    "    # Add confidence interval lines\n",
    "    geom_linerange(aes(ymin = `Lower Bound of 95%CI`, ymax = `Upper Bound of 95%CI`, color = `Countries Assessed`), \n",
    "                                 position = position_dodge(width = 0.5), \n",
    "                                 size = 1) +  # Line thickness\n",
    "    # Add points\n",
    "    geom_point(aes(color = `Countries Assessed`), \n",
    "                         position = position_dodge(width = 0.25), \n",
    "                         size = 2) +  # Dot size\n",
    "    # Add line of no effect\n",
    "    geom_hline(yintercept = 1, linetype = \"dashed\", color = \"red\", size = 1) +  # Thickness\n",
    "    # Flip coordinates for horizontal plot\n",
    "    coord_flip() +\n",
    "    # Labels and theme\n",
    "    labs(\n",
    "        title = \"Forest Plot: Oncology\",\n",
    "        x = \"Studies (Reference)\",\n",
    "        y = \"Relative Risk Ratio (RRR) / Odds Ratio (OR)\",\n",
    "        color = NULL  # Remove legend title\n",
    "    ) +\n",
    "    scale_y_continuous(\n",
    "        limits = c(0, 9),  # Fixed scale\n",
    "        breaks = seq(0, 9, by = 0.5),  # Adjust tick marks\n",
    "        labels = scales::number_format(accuracy = 0.1)  # Control decimal places\n",
    "    ) +\n",
    "    theme_minimal(base_size = 12) +\n",
    "    theme(\n",
    "        legend.position = \"none\",  # Remove the legend\n",
    "        axis.text.y = element_text(size = 8),  # Study names text size\n",
    "        axis.title.y = element_text(size = 12),\n",
    "        plot.margin = margin(5, 5, 5, 5)  # Add some padding\n",
    "    )\n"
   ]
  },
  {
   "cell_type": "code",
   "execution_count": 44,
   "metadata": {
    "vscode": {
     "languageId": "r"
    }
   },
   "outputs": [],
   "source": [
    "# Create a dummy plot to extract the legend for oncology data\n",
    "legend_plot <- ggplot(oncology_data, aes(x = Reference, y = Association, color = `Countries Assessed`)) +\n",
    "    geom_point() +\n",
    "    labs(color = \"Countries Assessed\") +\n",
    "    theme_minimal(base_size = 12) +\n",
    "    theme(\n",
    "        legend.key.size = unit(1, \"cm\"),  # Adjust legend key size\n",
    "        legend.text = element_text(size = 10)  # Adjust legend text size\n",
    "    )\n",
    "\n",
    "# Extract the legend\n",
    "legend <- get_legend(legend_plot)\n"
   ]
  },
  {
   "cell_type": "code",
   "execution_count": 45,
   "metadata": {
    "vscode": {
     "languageId": "r"
    }
   },
   "outputs": [
    {
     "name": "stderr",
     "output_type": "stream",
     "text": [
      "Warning message:\n",
      "\"\u001b[1m\u001b[22mRemoved 2 rows containing missing values or values outside the scale range\n",
      "(`geom_segment()`).\"\n"
     ]
    },
    {
     "data": {
      "image/png": "[encoded data removed]",
      "text/plain": [
       "plot without title"
      ]
     },
     "metadata": {
      "image/png": {
       "height": 420,
       "width": 420
      }
     },
     "output_type": "display_data"
    },
    {
     "data": {
      "image/png": "[encoded data removed]",
      "text/plain": [
       "plot without title"
      ]
     },
     "metadata": {
      "image/png": {
       "height": 420,
       "width": 420
      }
     },
     "output_type": "display_data"
    }
   ],
   "source": [
    "# Print the forest plot with labels\n",
    "print(forest_plot_with_labels)\n",
    "\n",
    "# Print the legend separately\n",
    "plot_grid(legend, ncol = 1)\n"
   ]
  },
  {
   "cell_type": "markdown",
   "metadata": {},
   "source": [
    "ORPHAN DRUG"
   ]
  },
  {
   "cell_type": "code",
   "execution_count": 46,
   "metadata": {
    "vscode": {
     "languageId": "r"
    }
   },
   "outputs": [
    {
     "name": "stderr",
     "output_type": "stream",
     "text": [
      "Warning message:\n",
      "\"\u001b[1m\u001b[22mRemoved 3 rows containing missing values or values outside the scale range\n",
      "(`geom_segment()`).\"\n"
     ]
    },
    {
     "data": {
      "image/png": "[encoded data removed]",
      "text/plain": [
       "plot without title"
      ]
     },
     "metadata": {
      "image/png": {
       "height": 420,
       "width": 420
      }
     },
     "output_type": "display_data"
    },
    {
     "data": {
      "image/png": "[encoded data removed]",
      "text/plain": [
       "plot without title"
      ]
     },
     "metadata": {
      "image/png": {
       "height": 420,
       "width": 420
      }
     },
     "output_type": "display_data"
    }
   ],
   "source": [
    "# Filter the dataset for \"Orphan Drugs\" and include only OR or RRR\n",
    "orphan_drug_data <- dataset %>%\n",
    "  filter(\n",
    "    `Broader Driver Category` == \"Orphan Drug\" & \n",
    "    `Type of Association Measure` %in% c(\"OR\", \"RRR\")\n",
    "  ) %>%\n",
    "  arrange(Association)\n",
    "\n",
    "# Add RRR/OR next to Reference\n",
    "orphan_drug_data$Reference <- factor(paste0(orphan_drug_data$Reference, \" - \", orphan_drug_data$`Type of Association Measure`),\n",
    "                                     levels = unique(paste0(orphan_drug_data$Reference, \" - \", orphan_drug_data$`Type of Association Measure`)))\n",
    "\n",
    "# Ensure `Association` is numeric\n",
    "orphan_drug_data$Association <- as.numeric(orphan_drug_data$Association)\n",
    "\n",
    "# Forest plot with labels but no legend\n",
    "forest_plot_with_labels <- ggplot(orphan_drug_data, aes(x = Reference, y = Association)) +\n",
    "    # Add confidence interval lines\n",
    "    geom_linerange(aes(ymin = `Lower Bound of 95%CI`, ymax = `Upper Bound of 95%CI`, color = `Countries Assessed`), \n",
    "                   position = position_dodge(width = 0.5), \n",
    "                   size = 1) +  # Line thickness\n",
    "    # Add points\n",
    "    geom_point(aes(color = `Countries Assessed`), \n",
    "               position = position_dodge(width = 0.25), \n",
    "               size = 2) +  # Dot size\n",
    "    # Add line of no effect\n",
    "    geom_hline(yintercept = 1, linetype = \"dashed\", color = \"red\", size = 1) +  # Thickness\n",
    "    # Flip coordinates for horizontal plot\n",
    "    coord_flip() +\n",
    "    # Labels and theme\n",
    "    labs(\n",
    "        title = \"Forest Plot: Orphan Drugs\",\n",
    "        x = \"Studies (Reference)\",\n",
    "        y = \"Relative Risk Ratio (RRR) / Odds Ratio (OR)\",\n",
    "        color = NULL  # Remove legend title\n",
    "    ) +\n",
    "    scale_y_continuous(\n",
    "        limits = c(0, 9.5),  # Fixed scale\n",
    "        breaks = seq(0, 9.5, by = 0.5),  # Adjust tick marks\n",
    "        labels = scales::number_format(accuracy = 0.1)  # Control decimal places\n",
    "    ) +\n",
    "    theme_minimal(base_size = 12) +\n",
    "    theme(\n",
    "        legend.position = \"none\",  # Remove the legend\n",
    "        axis.text.y = element_text(size = 8),  # Study names text size\n",
    "        axis.title.y = element_text(size = 12),\n",
    "        plot.margin = margin(5, 5, 5, 5)  # Add some padding\n",
    "    )\n",
    "\n",
    "# Create a dummy plot to extract the legend for orphan drug data\n",
    "legend_plot <- ggplot(orphan_drug_data, aes(x = Reference, y = Association, color = `Countries Assessed`)) +\n",
    "    geom_point() +\n",
    "    labs(color = \"Countries Assessed\") +\n",
    "    theme_minimal(base_size = 12) +\n",
    "    theme(\n",
    "        legend.key.size = unit(1, \"cm\"),  # Adjust legend key size\n",
    "        legend.text = element_text(size = 10)  # Adjust legend text size\n",
    "    )\n",
    "\n",
    "# Extract the legend\n",
    "legend <- get_legend(legend_plot)\n",
    "\n",
    "# Print the forest plot with labels\n",
    "print(forest_plot_with_labels)\n",
    "\n",
    "# Print the legend separately\n",
    "plot_grid(legend, ncol = 1)\n"
   ]
  },
  {
   "cell_type": "markdown",
   "metadata": {},
   "source": [
    "PATIENT PARTICIPATION"
   ]
  },
  {
   "cell_type": "code",
   "execution_count": 47,
   "metadata": {
    "vscode": {
     "languageId": "r"
    }
   },
   "outputs": [
    {
     "data": {
      "image/png": "[encoded data removed]",
      "text/plain": [
       "plot without title"
      ]
     },
     "metadata": {
      "image/png": {
       "height": 420,
       "width": 420
      }
     },
     "output_type": "display_data"
    },
    {
     "data": {
      "image/png": "[encoded data removed]",
      "text/plain": [
       "plot without title"
      ]
     },
     "metadata": {
      "image/png": {
       "height": 420,
       "width": 420
      }
     },
     "output_type": "display_data"
    }
   ],
   "source": [
    "# Filter the dataset for \"Patient Participation\" and include only OR or RRR\n",
    "patient_participation_data <- dataset %>%\n",
    "  filter(\n",
    "    `Broader Driver Category` == \"Patient Participation\" & \n",
    "    `Type of Association Measure` %in% c(\"OR\", \"RRR\")\n",
    "  ) %>%\n",
    "  arrange(Association)\n",
    "\n",
    "# Add RRR/OR next to Reference\n",
    "patient_participation_data$Reference <- factor(paste0(patient_participation_data$Reference, \" - \", patient_participation_data$`Type of Association Measure`),\n",
    "                                               levels = unique(paste0(patient_participation_data$Reference, \" - \", patient_participation_data$`Type of Association Measure`)))\n",
    "\n",
    "# Ensure `Association` is numeric\n",
    "patient_participation_data$Association <- as.numeric(patient_participation_data$Association)\n",
    "\n",
    "# Forest plot with labels but no legend\n",
    "forest_plot_with_labels <- ggplot(patient_participation_data, aes(x = Reference, y = Association)) +\n",
    "    # Add confidence interval lines\n",
    "    geom_linerange(aes(ymin = `Lower Bound of 95%CI`, ymax = `Upper Bound of 95%CI`, color = `Countries Assessed`), \n",
    "                   position = position_dodge(width = 0.5), \n",
    "                   size = 1) +  # Line thickness\n",
    "    # Add points\n",
    "    geom_point(aes(color = `Countries Assessed`), \n",
    "               position = position_dodge(width = 0.25), \n",
    "               size = 2) +  # Dot size\n",
    "    # Add line of no effect\n",
    "    geom_hline(yintercept = 1, linetype = \"dashed\", color = \"red\", size = 1) +  # Thickness\n",
    "    # Flip coordinates for horizontal plot\n",
    "    coord_flip() +\n",
    "    # Labels and theme\n",
    "    labs(\n",
    "        title = \"Forest Plot: Patient Participation\",\n",
    "        x = \"Studies (Reference)\",\n",
    "        y = \"Relative Risk Ratio (RRR) / Odds Ratio (OR)\",\n",
    "        color = NULL  # Remove legend title\n",
    "    ) +\n",
    "    scale_y_continuous(\n",
    "        limits = c(0, 12),  # Fixed scale\n",
    "        breaks = seq(0, 12, by = 1),  # Adjust tick marks\n",
    "        labels = scales::number_format(accuracy = 0.1)  # Control decimal places\n",
    "    ) +\n",
    "    theme_minimal(base_size = 12) +\n",
    "    theme(\n",
    "        legend.position = \"none\",  # Remove the legend\n",
    "        axis.text.y = element_text(size = 8),  # Study names text size\n",
    "        axis.title.y = element_text(size = 12),\n",
    "        plot.margin = margin(5, 5, 5, 5)  # Add some padding\n",
    "    )\n",
    "\n",
    "# Create a dummy plot to extract the legend for patient participation data\n",
    "legend_plot <- ggplot(patient_participation_data, aes(x = Reference, y = Association, color = `Countries Assessed`)) +\n",
    "    geom_point() +\n",
    "    labs(color = \"Countries Assessed\") +\n",
    "    theme_minimal(base_size = 12) +\n",
    "    theme(\n",
    "        legend.key.size = unit(1, \"cm\"),  # Adjust legend key size\n",
    "        legend.text = element_text(size = 10)  # Adjust legend text size\n",
    "    )\n",
    "\n",
    "# Extract the legend\n",
    "legend <- get_legend(legend_plot)\n",
    "\n",
    "# Print the forest plot with labels\n",
    "print(forest_plot_with_labels)\n",
    "\n",
    "# Print the legend separately\n",
    "plot_grid(legend, ncol = 1)\n"
   ]
  },
  {
   "cell_type": "markdown",
   "metadata": {},
   "source": [
    "SUPERIOR EFFICACY"
   ]
  },
  {
   "cell_type": "code",
   "execution_count": 48,
   "metadata": {
    "vscode": {
     "languageId": "r"
    }
   },
   "outputs": [
    {
     "data": {
      "text/html": [
       "<table class=\"dataframe\">\n",
       "<caption>A tibble: 10 × 12</caption>\n",
       "<thead>\n",
       "\t<tr><th scope=col>Broader Driver Category</th><th scope=col>Comparison</th><th scope=col>Driver</th><th scope=col>Type of Association Measure</th><th scope=col>Association</th><th scope=col>Lower Bound of 95%CI</th><th scope=col>Upper Bound of 95%CI</th><th scope=col>SE</th><th scope=col>SD</th><th scope=col>P-Value</th><th scope=col>Countries Assessed</th><th scope=col>Reference</th></tr>\n",
       "\t<tr><th scope=col>&lt;chr&gt;</th><th scope=col>&lt;chr&gt;</th><th scope=col>&lt;chr&gt;</th><th scope=col>&lt;chr&gt;</th><th scope=col>&lt;dbl&gt;</th><th scope=col>&lt;dbl&gt;</th><th scope=col>&lt;dbl&gt;</th><th scope=col>&lt;dbl&gt;</th><th scope=col>&lt;dbl&gt;</th><th scope=col>&lt;dbl&gt;</th><th scope=col>&lt;chr&gt;</th><th scope=col>&lt;chr&gt;</th></tr>\n",
       "</thead>\n",
       "<tbody>\n",
       "\t<tr><td>Superior Efficacy</td><td>Recommended vs Not Recommended           </td><td>Superior efficacy                                                              </td><td>OR </td><td>  1.133148</td><td> 0.09292152</td><td> 13.80457</td><td>NA</td><td>NA</td><td>0.9220</td><td>Australia  </td><td>Haque et al., 2023              </td></tr>\n",
       "\t<tr><td>Superior Efficacy</td><td>Positive vs Not Positive                 </td><td>Superior efficacy                                                              </td><td>OR </td><td>  2.247000</td><td> 0.95500000</td><td>  5.31200</td><td>NA</td><td>NA</td><td>0.0636</td><td>Poland     </td><td>Malinowski et al., 2016         </td></tr>\n",
       "\t<tr><td>Superior Efficacy</td><td>Routine vs Not Recommended (reversed)    </td><td>Superior Efficacy                                                              </td><td>RRR</td><td>  2.352941</td><td> 0.12108003</td><td> 45.87156</td><td>NA</td><td>NA</td><td>0.5720</td><td>UK         </td><td>H. A. Dakin et al., 2006        </td></tr>\n",
       "\t<tr><td>Superior Efficacy</td><td>Positive vs Negative                     </td><td>Clinical Effectiveness (Better)                                                </td><td>OR </td><td>  2.712851</td><td> 0.02428831</td><td>303.00824</td><td>NA</td><td>NA</td><td>    NA</td><td>UK         </td><td>Schaefer et al., 2023           </td></tr>\n",
       "\t<tr><td>Superior Efficacy</td><td>Recommended vs Not Recommended (reversed)</td><td><span style=white-space:pre-wrap>Superior Efficacy in RCTs                                                      </span></td><td>RRR</td><td><span style=white-space:pre-wrap>  6.359820</span></td><td> 2.43512965</td><td> 16.77685</td><td>NA</td><td>NA</td><td>0.0010</td><td>Netherlands</td><td>Cerri, Knapp, &amp; Fernandez, 2014a</td></tr>\n",
       "\t<tr><td>Superior Efficacy</td><td>Recommended vs Not Recommended (reversed)</td><td><span style=white-space:pre-wrap>Superior Efficacy in RCTs                                                      </span></td><td>RRR</td><td><span style=white-space:pre-wrap>  7.463317</span></td><td> 1.46228459</td><td> 38.09184</td><td>NA</td><td>NA</td><td>0.0200</td><td><span style=white-space:pre-wrap>UK         </span></td><td>Cerri, Knapp, &amp; Fernandez, 2014b</td></tr>\n",
       "\t<tr><td>Superior Efficacy</td><td>Recommended vs Rejected                  </td><td>Relative Efficacy – Superior to Comparator                                     </td><td>OR </td><td> 28.012000</td><td> 1.96500000</td><td>399.38700</td><td>NA</td><td>NA</td><td>    NA</td><td>South Korea</td><td>Park et al., 2012               </td></tr>\n",
       "\t<tr><td>Superior Efficacy</td><td>Recommended  vs not Recommended          </td><td>Relative Efficacy – Superior to Comparator                                     </td><td>OR </td><td> 41.478000</td><td>22.96300000</td><td>580.67000</td><td>NA</td><td>NA</td><td>0.0060</td><td>Belgium    </td><td>Pauwels et al., 2015            </td></tr>\n",
       "\t<tr><td>Superior Efficacy</td><td>Positive vs Negative                     </td><td>Relative Efficacy – Superior to comparator                                     </td><td>OR </td><td> 45.300000</td><td> 6.69000000</td><td>306.64000</td><td>NA</td><td>NA</td><td>    NA</td><td>Poland     </td><td>Kawalec et al., 2018            </td></tr>\n",
       "\t<tr><td>Superior Efficacy</td><td>Positive vs Negative                     </td><td>Significant efficacy:  mortality, morbidity, and health-related quality of life</td><td>OR </td><td>524.790954</td><td>47.37430533</td><td>600.00000</td><td>NA</td><td>NA</td><td>0.0100</td><td>Germany    </td><td>Schaefer et al., 2023           </td></tr>\n",
       "</tbody>\n",
       "</table>\n"
      ],
      "text/latex": [
       "A tibble: 10 × 12\n",
       "\\begin{tabular}{llllllllllll}\n",
       " Broader Driver Category & Comparison & Driver & Type of Association Measure & Association & Lower Bound of 95\\%CI & Upper Bound of 95\\%CI & SE & SD & P-Value & Countries Assessed & Reference\\\\\n",
       " <chr> & <chr> & <chr> & <chr> & <dbl> & <dbl> & <dbl> & <dbl> & <dbl> & <dbl> & <chr> & <chr>\\\\\n",
       "\\hline\n",
       "\t Superior Efficacy & Recommended vs Not Recommended            & Superior efficacy                                                               & OR  &   1.133148 &  0.09292152 &  13.80457 & NA & NA & 0.9220 & Australia   & Haque et al., 2023              \\\\\n",
       "\t Superior Efficacy & Positive vs Not Positive                  & Superior efficacy                                                               & OR  &   2.247000 &  0.95500000 &   5.31200 & NA & NA & 0.0636 & Poland      & Malinowski et al., 2016         \\\\\n",
       "\t Superior Efficacy & Routine vs Not Recommended (reversed)     & Superior Efficacy                                                               & RRR &   2.352941 &  0.12108003 &  45.87156 & NA & NA & 0.5720 & UK          & H. A. Dakin et al., 2006        \\\\\n",
       "\t Superior Efficacy & Positive vs Negative                      & Clinical Effectiveness (Better)                                                 & OR  &   2.712851 &  0.02428831 & 303.00824 & NA & NA &     NA & UK          & Schaefer et al., 2023           \\\\\n",
       "\t Superior Efficacy & Recommended vs Not Recommended (reversed) & Superior Efficacy in RCTs                                                       & RRR &   6.359820 &  2.43512965 &  16.77685 & NA & NA & 0.0010 & Netherlands & Cerri, Knapp, \\& Fernandez, 2014a\\\\\n",
       "\t Superior Efficacy & Recommended vs Not Recommended (reversed) & Superior Efficacy in RCTs                                                       & RRR &   7.463317 &  1.46228459 &  38.09184 & NA & NA & 0.0200 & UK          & Cerri, Knapp, \\& Fernandez, 2014b\\\\\n",
       "\t Superior Efficacy & Recommended vs Rejected                   & Relative Efficacy – Superior to Comparator                                      & OR  &  28.012000 &  1.96500000 & 399.38700 & NA & NA &     NA & South Korea & Park et al., 2012               \\\\\n",
       "\t Superior Efficacy & Recommended  vs not Recommended           & Relative Efficacy – Superior to Comparator                                      & OR  &  41.478000 & 22.96300000 & 580.67000 & NA & NA & 0.0060 & Belgium     & Pauwels et al., 2015            \\\\\n",
       "\t Superior Efficacy & Positive vs Negative                      & Relative Efficacy – Superior to comparator                                      & OR  &  45.300000 &  6.69000000 & 306.64000 & NA & NA &     NA & Poland      & Kawalec et al., 2018            \\\\\n",
       "\t Superior Efficacy & Positive vs Negative                      & Significant efficacy:  mortality, morbidity, and health-related quality of life & OR  & 524.790954 & 47.37430533 & 600.00000 & NA & NA & 0.0100 & Germany     & Schaefer et al., 2023           \\\\\n",
       "\\end{tabular}\n"
      ],
      "text/markdown": [
       "\n",
       "A tibble: 10 × 12\n",
       "\n",
       "| Broader Driver Category &lt;chr&gt; | Comparison &lt;chr&gt; | Driver &lt;chr&gt; | Type of Association Measure &lt;chr&gt; | Association &lt;dbl&gt; | Lower Bound of 95%CI &lt;dbl&gt; | Upper Bound of 95%CI &lt;dbl&gt; | SE &lt;dbl&gt; | SD &lt;dbl&gt; | P-Value &lt;dbl&gt; | Countries Assessed &lt;chr&gt; | Reference &lt;chr&gt; |\n",
       "|---|---|---|---|---|---|---|---|---|---|---|---|\n",
       "| Superior Efficacy | Recommended vs Not Recommended            | Superior efficacy                                                               | OR  |   1.133148 |  0.09292152 |  13.80457 | NA | NA | 0.9220 | Australia   | Haque et al., 2023               |\n",
       "| Superior Efficacy | Positive vs Not Positive                  | Superior efficacy                                                               | OR  |   2.247000 |  0.95500000 |   5.31200 | NA | NA | 0.0636 | Poland      | Malinowski et al., 2016          |\n",
       "| Superior Efficacy | Routine vs Not Recommended (reversed)     | Superior Efficacy                                                               | RRR |   2.352941 |  0.12108003 |  45.87156 | NA | NA | 0.5720 | UK          | H. A. Dakin et al., 2006         |\n",
       "| Superior Efficacy | Positive vs Negative                      | Clinical Effectiveness (Better)                                                 | OR  |   2.712851 |  0.02428831 | 303.00824 | NA | NA |     NA | UK          | Schaefer et al., 2023            |\n",
       "| Superior Efficacy | Recommended vs Not Recommended (reversed) | Superior Efficacy in RCTs                                                       | RRR |   6.359820 |  2.43512965 |  16.77685 | NA | NA | 0.0010 | Netherlands | Cerri, Knapp, &amp; Fernandez, 2014a |\n",
       "| Superior Efficacy | Recommended vs Not Recommended (reversed) | Superior Efficacy in RCTs                                                       | RRR |   7.463317 |  1.46228459 |  38.09184 | NA | NA | 0.0200 | UK          | Cerri, Knapp, &amp; Fernandez, 2014b |\n",
       "| Superior Efficacy | Recommended vs Rejected                   | Relative Efficacy – Superior to Comparator                                      | OR  |  28.012000 |  1.96500000 | 399.38700 | NA | NA |     NA | South Korea | Park et al., 2012                |\n",
       "| Superior Efficacy | Recommended  vs not Recommended           | Relative Efficacy – Superior to Comparator                                      | OR  |  41.478000 | 22.96300000 | 580.67000 | NA | NA | 0.0060 | Belgium     | Pauwels et al., 2015             |\n",
       "| Superior Efficacy | Positive vs Negative                      | Relative Efficacy – Superior to comparator                                      | OR  |  45.300000 |  6.69000000 | 306.64000 | NA | NA |     NA | Poland      | Kawalec et al., 2018             |\n",
       "| Superior Efficacy | Positive vs Negative                      | Significant efficacy:  mortality, morbidity, and health-related quality of life | OR  | 524.790954 | 47.37430533 | 600.00000 | NA | NA | 0.0100 | Germany     | Schaefer et al., 2023            |\n",
       "\n"
      ],
      "text/plain": [
       "   Broader Driver Category Comparison                               \n",
       "1  Superior Efficacy       Recommended vs Not Recommended           \n",
       "2  Superior Efficacy       Positive vs Not Positive                 \n",
       "3  Superior Efficacy       Routine vs Not Recommended (reversed)    \n",
       "4  Superior Efficacy       Positive vs Negative                     \n",
       "5  Superior Efficacy       Recommended vs Not Recommended (reversed)\n",
       "6  Superior Efficacy       Recommended vs Not Recommended (reversed)\n",
       "7  Superior Efficacy       Recommended vs Rejected                  \n",
       "8  Superior Efficacy       Recommended  vs not Recommended          \n",
       "9  Superior Efficacy       Positive vs Negative                     \n",
       "10 Superior Efficacy       Positive vs Negative                     \n",
       "   Driver                                                                         \n",
       "1  Superior efficacy                                                              \n",
       "2  Superior efficacy                                                              \n",
       "3  Superior Efficacy                                                              \n",
       "4  Clinical Effectiveness (Better)                                                \n",
       "5  Superior Efficacy in RCTs                                                      \n",
       "6  Superior Efficacy in RCTs                                                      \n",
       "7  Relative Efficacy – Superior to Comparator                                     \n",
       "8  Relative Efficacy – Superior to Comparator                                     \n",
       "9  Relative Efficacy – Superior to comparator                                     \n",
       "10 Significant efficacy:  mortality, morbidity, and health-related quality of life\n",
       "   Type of Association Measure Association Lower Bound of 95%CI\n",
       "1  OR                            1.133148   0.09292152         \n",
       "2  OR                            2.247000   0.95500000         \n",
       "3  RRR                           2.352941   0.12108003         \n",
       "4  OR                            2.712851   0.02428831         \n",
       "5  RRR                           6.359820   2.43512965         \n",
       "6  RRR                           7.463317   1.46228459         \n",
       "7  OR                           28.012000   1.96500000         \n",
       "8  OR                           41.478000  22.96300000         \n",
       "9  OR                           45.300000   6.69000000         \n",
       "10 OR                          524.790954  47.37430533         \n",
       "   Upper Bound of 95%CI SE SD P-Value Countries Assessed\n",
       "1   13.80457            NA NA 0.9220  Australia         \n",
       "2    5.31200            NA NA 0.0636  Poland            \n",
       "3   45.87156            NA NA 0.5720  UK                \n",
       "4  303.00824            NA NA     NA  UK                \n",
       "5   16.77685            NA NA 0.0010  Netherlands       \n",
       "6   38.09184            NA NA 0.0200  UK                \n",
       "7  399.38700            NA NA     NA  South Korea       \n",
       "8  580.67000            NA NA 0.0060  Belgium           \n",
       "9  306.64000            NA NA     NA  Poland            \n",
       "10 600.00000            NA NA 0.0100  Germany           \n",
       "   Reference                       \n",
       "1  Haque et al., 2023              \n",
       "2  Malinowski et al., 2016         \n",
       "3  H. A. Dakin et al., 2006        \n",
       "4  Schaefer et al., 2023           \n",
       "5  Cerri, Knapp, & Fernandez, 2014a\n",
       "6  Cerri, Knapp, & Fernandez, 2014b\n",
       "7  Park et al., 2012               \n",
       "8  Pauwels et al., 2015            \n",
       "9  Kawalec et al., 2018            \n",
       "10 Schaefer et al., 2023           "
      ]
     },
     "metadata": {},
     "output_type": "display_data"
    }
   ],
   "source": [
    "# Filter the dataset for \"Superior Efficacy\" and include only OR or RRR\n",
    "superior_efficacy_data <- dataset %>%\n",
    "  filter(\n",
    "    `Broader Driver Category` == \"Superior Efficacy\" & \n",
    "    `Type of Association Measure` %in% c(\"OR\", \"RRR\")\n",
    "  ) %>%\n",
    "  arrange(Association)\n",
    "\n",
    "  superior_efficacy_data"
   ]
  },
  {
   "cell_type": "code",
   "execution_count": 49,
   "metadata": {
    "vscode": {
     "languageId": "r"
    }
   },
   "outputs": [
    {
     "data": {
      "text/html": [
       "<table class=\"dataframe\">\n",
       "<caption>A tibble: 10 × 12</caption>\n",
       "<thead>\n",
       "\t<tr><th scope=col>Broader Driver Category</th><th scope=col>Comparison</th><th scope=col>Driver</th><th scope=col>Type of Association Measure</th><th scope=col>Association</th><th scope=col>Lower Bound of 95%CI</th><th scope=col>Upper Bound of 95%CI</th><th scope=col>SE</th><th scope=col>SD</th><th scope=col>P-Value</th><th scope=col>Countries Assessed</th><th scope=col>Reference</th></tr>\n",
       "\t<tr><th scope=col>&lt;chr&gt;</th><th scope=col>&lt;chr&gt;</th><th scope=col>&lt;chr&gt;</th><th scope=col>&lt;chr&gt;</th><th scope=col>&lt;dbl&gt;</th><th scope=col>&lt;dbl&gt;</th><th scope=col>&lt;dbl&gt;</th><th scope=col>&lt;dbl&gt;</th><th scope=col>&lt;dbl&gt;</th><th scope=col>&lt;dbl&gt;</th><th scope=col>&lt;chr&gt;</th><th scope=col>&lt;chr&gt;</th></tr>\n",
       "</thead>\n",
       "<tbody>\n",
       "\t<tr><td>Superior Efficacy</td><td>Recommended vs Not Recommended           </td><td>Superior efficacy                                                              </td><td>OR </td><td>  1.133148</td><td> 0.09292152</td><td> 13.80457</td><td>NA</td><td>NA</td><td>0.9220</td><td>Australia  </td><td>Haque et al., 2023              </td></tr>\n",
       "\t<tr><td>Superior Efficacy</td><td>Positive vs Not Positive                 </td><td>Superior efficacy                                                              </td><td>OR </td><td>  2.247000</td><td> 0.95500000</td><td>  5.31200</td><td>NA</td><td>NA</td><td>0.0636</td><td>Poland     </td><td>Malinowski et al., 2016         </td></tr>\n",
       "\t<tr><td>Superior Efficacy</td><td>Routine vs Not Recommended (reversed)    </td><td>Superior Efficacy                                                              </td><td>RRR</td><td>  2.352941</td><td> 0.12108003</td><td> 45.87156</td><td>NA</td><td>NA</td><td>0.5720</td><td>UK         </td><td>H. A. Dakin et al., 2006        </td></tr>\n",
       "\t<tr><td>Superior Efficacy</td><td>Positive vs Negative                     </td><td>Clinical Effectiveness (Better)                                                </td><td>OR </td><td>  2.712851</td><td> 0.02428831</td><td>303.00824</td><td>NA</td><td>NA</td><td>    NA</td><td>UK         </td><td>Schaefer et al., 2023 (UK)      </td></tr>\n",
       "\t<tr><td>Superior Efficacy</td><td>Recommended vs Not Recommended (reversed)</td><td><span style=white-space:pre-wrap>Superior Efficacy in RCTs                                                      </span></td><td>RRR</td><td><span style=white-space:pre-wrap>  6.359820</span></td><td> 2.43512965</td><td> 16.77685</td><td>NA</td><td>NA</td><td>0.0010</td><td>Netherlands</td><td>Cerri, Knapp, &amp; Fernandez, 2014a</td></tr>\n",
       "\t<tr><td>Superior Efficacy</td><td>Recommended vs Not Recommended (reversed)</td><td><span style=white-space:pre-wrap>Superior Efficacy in RCTs                                                      </span></td><td>RRR</td><td><span style=white-space:pre-wrap>  7.463317</span></td><td> 1.46228459</td><td> 38.09184</td><td>NA</td><td>NA</td><td>0.0200</td><td><span style=white-space:pre-wrap>UK         </span></td><td>Cerri, Knapp, &amp; Fernandez, 2014b</td></tr>\n",
       "\t<tr><td>Superior Efficacy</td><td>Recommended vs Rejected                  </td><td>Relative Efficacy – Superior to Comparator                                     </td><td>OR </td><td> 28.012000</td><td> 1.96500000</td><td>399.38700</td><td>NA</td><td>NA</td><td>    NA</td><td>South Korea</td><td>Park et al., 2012               </td></tr>\n",
       "\t<tr><td>Superior Efficacy</td><td>Recommended  vs not Recommended          </td><td>Relative Efficacy – Superior to Comparator                                     </td><td>OR </td><td> 41.478000</td><td>22.96300000</td><td>580.67000</td><td>NA</td><td>NA</td><td>0.0060</td><td>Belgium    </td><td>Pauwels et al., 2015            </td></tr>\n",
       "\t<tr><td>Superior Efficacy</td><td>Positive vs Negative                     </td><td>Relative Efficacy – Superior to comparator                                     </td><td>OR </td><td> 45.300000</td><td> 6.69000000</td><td>306.64000</td><td>NA</td><td>NA</td><td>    NA</td><td>Poland     </td><td>Kawalec et al., 2018            </td></tr>\n",
       "\t<tr><td>Superior Efficacy</td><td>Positive vs Negative                     </td><td>Significant efficacy:  mortality, morbidity, and health-related quality of life</td><td>OR </td><td>524.790954</td><td>47.37430533</td><td>600.00000</td><td>NA</td><td>NA</td><td>0.0100</td><td>Germany    </td><td>Schaefer et al., 2023 (Germany) </td></tr>\n",
       "</tbody>\n",
       "</table>\n"
      ],
      "text/latex": [
       "A tibble: 10 × 12\n",
       "\\begin{tabular}{llllllllllll}\n",
       " Broader Driver Category & Comparison & Driver & Type of Association Measure & Association & Lower Bound of 95\\%CI & Upper Bound of 95\\%CI & SE & SD & P-Value & Countries Assessed & Reference\\\\\n",
       " <chr> & <chr> & <chr> & <chr> & <dbl> & <dbl> & <dbl> & <dbl> & <dbl> & <dbl> & <chr> & <chr>\\\\\n",
       "\\hline\n",
       "\t Superior Efficacy & Recommended vs Not Recommended            & Superior efficacy                                                               & OR  &   1.133148 &  0.09292152 &  13.80457 & NA & NA & 0.9220 & Australia   & Haque et al., 2023              \\\\\n",
       "\t Superior Efficacy & Positive vs Not Positive                  & Superior efficacy                                                               & OR  &   2.247000 &  0.95500000 &   5.31200 & NA & NA & 0.0636 & Poland      & Malinowski et al., 2016         \\\\\n",
       "\t Superior Efficacy & Routine vs Not Recommended (reversed)     & Superior Efficacy                                                               & RRR &   2.352941 &  0.12108003 &  45.87156 & NA & NA & 0.5720 & UK          & H. A. Dakin et al., 2006        \\\\\n",
       "\t Superior Efficacy & Positive vs Negative                      & Clinical Effectiveness (Better)                                                 & OR  &   2.712851 &  0.02428831 & 303.00824 & NA & NA &     NA & UK          & Schaefer et al., 2023 (UK)      \\\\\n",
       "\t Superior Efficacy & Recommended vs Not Recommended (reversed) & Superior Efficacy in RCTs                                                       & RRR &   6.359820 &  2.43512965 &  16.77685 & NA & NA & 0.0010 & Netherlands & Cerri, Knapp, \\& Fernandez, 2014a\\\\\n",
       "\t Superior Efficacy & Recommended vs Not Recommended (reversed) & Superior Efficacy in RCTs                                                       & RRR &   7.463317 &  1.46228459 &  38.09184 & NA & NA & 0.0200 & UK          & Cerri, Knapp, \\& Fernandez, 2014b\\\\\n",
       "\t Superior Efficacy & Recommended vs Rejected                   & Relative Efficacy – Superior to Comparator                                      & OR  &  28.012000 &  1.96500000 & 399.38700 & NA & NA &     NA & South Korea & Park et al., 2012               \\\\\n",
       "\t Superior Efficacy & Recommended  vs not Recommended           & Relative Efficacy – Superior to Comparator                                      & OR  &  41.478000 & 22.96300000 & 580.67000 & NA & NA & 0.0060 & Belgium     & Pauwels et al., 2015            \\\\\n",
       "\t Superior Efficacy & Positive vs Negative                      & Relative Efficacy – Superior to comparator                                      & OR  &  45.300000 &  6.69000000 & 306.64000 & NA & NA &     NA & Poland      & Kawalec et al., 2018            \\\\\n",
       "\t Superior Efficacy & Positive vs Negative                      & Significant efficacy:  mortality, morbidity, and health-related quality of life & OR  & 524.790954 & 47.37430533 & 600.00000 & NA & NA & 0.0100 & Germany     & Schaefer et al., 2023 (Germany) \\\\\n",
       "\\end{tabular}\n"
      ],
      "text/markdown": [
       "\n",
       "A tibble: 10 × 12\n",
       "\n",
       "| Broader Driver Category &lt;chr&gt; | Comparison &lt;chr&gt; | Driver &lt;chr&gt; | Type of Association Measure &lt;chr&gt; | Association &lt;dbl&gt; | Lower Bound of 95%CI &lt;dbl&gt; | Upper Bound of 95%CI &lt;dbl&gt; | SE &lt;dbl&gt; | SD &lt;dbl&gt; | P-Value &lt;dbl&gt; | Countries Assessed &lt;chr&gt; | Reference &lt;chr&gt; |\n",
       "|---|---|---|---|---|---|---|---|---|---|---|---|\n",
       "| Superior Efficacy | Recommended vs Not Recommended            | Superior efficacy                                                               | OR  |   1.133148 |  0.09292152 |  13.80457 | NA | NA | 0.9220 | Australia   | Haque et al., 2023               |\n",
       "| Superior Efficacy | Positive vs Not Positive                  | Superior efficacy                                                               | OR  |   2.247000 |  0.95500000 |   5.31200 | NA | NA | 0.0636 | Poland      | Malinowski et al., 2016          |\n",
       "| Superior Efficacy | Routine vs Not Recommended (reversed)     | Superior Efficacy                                                               | RRR |   2.352941 |  0.12108003 |  45.87156 | NA | NA | 0.5720 | UK          | H. A. Dakin et al., 2006         |\n",
       "| Superior Efficacy | Positive vs Negative                      | Clinical Effectiveness (Better)                                                 | OR  |   2.712851 |  0.02428831 | 303.00824 | NA | NA |     NA | UK          | Schaefer et al., 2023 (UK)       |\n",
       "| Superior Efficacy | Recommended vs Not Recommended (reversed) | Superior Efficacy in RCTs                                                       | RRR |   6.359820 |  2.43512965 |  16.77685 | NA | NA | 0.0010 | Netherlands | Cerri, Knapp, &amp; Fernandez, 2014a |\n",
       "| Superior Efficacy | Recommended vs Not Recommended (reversed) | Superior Efficacy in RCTs                                                       | RRR |   7.463317 |  1.46228459 |  38.09184 | NA | NA | 0.0200 | UK          | Cerri, Knapp, &amp; Fernandez, 2014b |\n",
       "| Superior Efficacy | Recommended vs Rejected                   | Relative Efficacy – Superior to Comparator                                      | OR  |  28.012000 |  1.96500000 | 399.38700 | NA | NA |     NA | South Korea | Park et al., 2012                |\n",
       "| Superior Efficacy | Recommended  vs not Recommended           | Relative Efficacy – Superior to Comparator                                      | OR  |  41.478000 | 22.96300000 | 580.67000 | NA | NA | 0.0060 | Belgium     | Pauwels et al., 2015             |\n",
       "| Superior Efficacy | Positive vs Negative                      | Relative Efficacy – Superior to comparator                                      | OR  |  45.300000 |  6.69000000 | 306.64000 | NA | NA |     NA | Poland      | Kawalec et al., 2018             |\n",
       "| Superior Efficacy | Positive vs Negative                      | Significant efficacy:  mortality, morbidity, and health-related quality of life | OR  | 524.790954 | 47.37430533 | 600.00000 | NA | NA | 0.0100 | Germany     | Schaefer et al., 2023 (Germany)  |\n",
       "\n"
      ],
      "text/plain": [
       "   Broader Driver Category Comparison                               \n",
       "1  Superior Efficacy       Recommended vs Not Recommended           \n",
       "2  Superior Efficacy       Positive vs Not Positive                 \n",
       "3  Superior Efficacy       Routine vs Not Recommended (reversed)    \n",
       "4  Superior Efficacy       Positive vs Negative                     \n",
       "5  Superior Efficacy       Recommended vs Not Recommended (reversed)\n",
       "6  Superior Efficacy       Recommended vs Not Recommended (reversed)\n",
       "7  Superior Efficacy       Recommended vs Rejected                  \n",
       "8  Superior Efficacy       Recommended  vs not Recommended          \n",
       "9  Superior Efficacy       Positive vs Negative                     \n",
       "10 Superior Efficacy       Positive vs Negative                     \n",
       "   Driver                                                                         \n",
       "1  Superior efficacy                                                              \n",
       "2  Superior efficacy                                                              \n",
       "3  Superior Efficacy                                                              \n",
       "4  Clinical Effectiveness (Better)                                                \n",
       "5  Superior Efficacy in RCTs                                                      \n",
       "6  Superior Efficacy in RCTs                                                      \n",
       "7  Relative Efficacy – Superior to Comparator                                     \n",
       "8  Relative Efficacy – Superior to Comparator                                     \n",
       "9  Relative Efficacy – Superior to comparator                                     \n",
       "10 Significant efficacy:  mortality, morbidity, and health-related quality of life\n",
       "   Type of Association Measure Association Lower Bound of 95%CI\n",
       "1  OR                            1.133148   0.09292152         \n",
       "2  OR                            2.247000   0.95500000         \n",
       "3  RRR                           2.352941   0.12108003         \n",
       "4  OR                            2.712851   0.02428831         \n",
       "5  RRR                           6.359820   2.43512965         \n",
       "6  RRR                           7.463317   1.46228459         \n",
       "7  OR                           28.012000   1.96500000         \n",
       "8  OR                           41.478000  22.96300000         \n",
       "9  OR                           45.300000   6.69000000         \n",
       "10 OR                          524.790954  47.37430533         \n",
       "   Upper Bound of 95%CI SE SD P-Value Countries Assessed\n",
       "1   13.80457            NA NA 0.9220  Australia         \n",
       "2    5.31200            NA NA 0.0636  Poland            \n",
       "3   45.87156            NA NA 0.5720  UK                \n",
       "4  303.00824            NA NA     NA  UK                \n",
       "5   16.77685            NA NA 0.0010  Netherlands       \n",
       "6   38.09184            NA NA 0.0200  UK                \n",
       "7  399.38700            NA NA     NA  South Korea       \n",
       "8  580.67000            NA NA 0.0060  Belgium           \n",
       "9  306.64000            NA NA     NA  Poland            \n",
       "10 600.00000            NA NA 0.0100  Germany           \n",
       "   Reference                       \n",
       "1  Haque et al., 2023              \n",
       "2  Malinowski et al., 2016         \n",
       "3  H. A. Dakin et al., 2006        \n",
       "4  Schaefer et al., 2023 (UK)      \n",
       "5  Cerri, Knapp, & Fernandez, 2014a\n",
       "6  Cerri, Knapp, & Fernandez, 2014b\n",
       "7  Park et al., 2012               \n",
       "8  Pauwels et al., 2015            \n",
       "9  Kawalec et al., 2018            \n",
       "10 Schaefer et al., 2023 (Germany) "
      ]
     },
     "metadata": {},
     "output_type": "display_data"
    }
   ],
   "source": [
    "superior_efficacy_data <- superior_efficacy_data %>%\n",
    "  mutate(\n",
    "    Reference = if_else(\n",
    "      Reference == \"Schaefer et al., 2023\",\n",
    "      paste0(Reference, \" (\", `Countries Assessed`, \")\"),\n",
    "      Reference\n",
    "    )\n",
    "  )\n",
    "\n",
    "superior_efficacy_data"
   ]
  },
  {
   "cell_type": "code",
   "execution_count": 50,
   "metadata": {
    "vscode": {
     "languageId": "r"
    }
   },
   "outputs": [
    {
     "data": {
      "image/png": "[encoded data removed]",
      "text/plain": [
       "plot without title"
      ]
     },
     "metadata": {
      "image/png": {
       "height": 420,
       "width": 420
      }
     },
     "output_type": "display_data"
    },
    {
     "data": {
      "image/png": "[encoded data removed]",
      "text/plain": [
       "plot without title"
      ]
     },
     "metadata": {
      "image/png": {
       "height": 420,
       "width": 420
      }
     },
     "output_type": "display_data"
    }
   ],
   "source": [
    "\n",
    "# Add RRR/OR next to Reference\n",
    "superior_efficacy_data$Reference <- factor(paste0(superior_efficacy_data$Reference, \" - \", superior_efficacy_data$`Type of Association Measure`),\n",
    "                                           levels = unique(paste0(superior_efficacy_data$Reference, \" - \", superior_efficacy_data$`Type of Association Measure`)))\n",
    "\n",
    "# Ensure `Association` is numeric\n",
    "superior_efficacy_data$Association <- as.numeric(superior_efficacy_data$Association)\n",
    "\n",
    "# Forest plot with labels but no legend\n",
    "forest_plot_with_labels <- ggplot(superior_efficacy_data, aes(x = Reference, y = Association)) +\n",
    "    # Add confidence interval lines\n",
    "    geom_linerange(aes(ymin = `Lower Bound of 95%CI`, ymax = `Upper Bound of 95%CI`, color = `Countries Assessed`), \n",
    "                   position = position_dodge(width = 0.5), \n",
    "                   size = 1) +  # Line thickness\n",
    "    # Add points\n",
    "    geom_point(aes(color = `Countries Assessed`), \n",
    "               position = position_dodge(width = 0.5), \n",
    "               size = 2) +  # Dot size\n",
    "    # Add line of no effect\n",
    "    geom_hline(yintercept = 1, linetype = \"dashed\", color = \"red\", size = 1) +  # Thickness\n",
    "    # Flip coordinates for horizontal plot\n",
    "    coord_flip() +\n",
    "    # Labels and theme\n",
    "    labs(\n",
    "        title = \"Forest Plot: Superior Efficacy\",\n",
    "        x = \"Studies (Reference)\",\n",
    "        y = \"Relative Risk Ratio (RRR) / Odds Ratio (OR)\",\n",
    "        color = NULL  # Remove legend title\n",
    "    ) +\n",
    "    scale_y_continuous(\n",
    "        limits = c(0, 601),  # Fixed scale\n",
    "        breaks = seq(0, 601, by = 100),  # Adjust tick marks\n",
    "        labels = scales::number_format(accuracy = 0.1)  # Control decimal places\n",
    "    ) +\n",
    "    theme_minimal(base_size = 12) +\n",
    "    theme(\n",
    "        legend.position = \"none\",  # Remove the legend\n",
    "        axis.text.y = element_text(size = 8),  # Study names text size\n",
    "        axis.title.y = element_text(size = 12),\n",
    "        plot.margin = margin(5, 5, 5, 5)  # Add some padding\n",
    "    )\n",
    "\n",
    "# Create a dummy plot to extract the legend for superior efficacy data\n",
    "legend_plot <- ggplot(superior_efficacy_data, aes(x = Reference, y = Association, color = `Countries Assessed`)) +\n",
    "    geom_point() +\n",
    "    labs(color = \"Countries Assessed\") +\n",
    "    theme_minimal(base_size = 12) +\n",
    "    theme(\n",
    "        legend.key.size = unit(1, \"cm\"),  # Adjust legend key size\n",
    "        legend.text = element_text(size = 10)  # Adjust legend text size\n",
    "    )\n",
    "\n",
    "# Extract the legend\n",
    "legend <- get_legend(legend_plot)\n",
    "\n",
    "# Print the forest plot with labels\n",
    "print(forest_plot_with_labels)\n",
    "\n",
    "# Print the legend separately\n",
    "plot_grid(legend, ncol = 1)"
   ]
  },
  {
   "cell_type": "markdown",
   "metadata": {},
   "source": [
    "HIGH QUALITY OF EVIDENCE"
   ]
  },
  {
   "cell_type": "code",
   "execution_count": 51,
   "metadata": {
    "vscode": {
     "languageId": "r"
    }
   },
   "outputs": [
    {
     "name": "stderr",
     "output_type": "stream",
     "text": [
      "Warning message:\n",
      "\"\u001b[1m\u001b[22mRemoved 1 row containing missing values or values outside the scale range\n",
      "(`geom_segment()`).\"\n"
     ]
    },
    {
     "data": {
      "image/png": "[encoded data removed]",
      "text/plain": [
       "plot without title"
      ]
     },
     "metadata": {
      "image/png": {
       "height": 420,
       "width": 420
      }
     },
     "output_type": "display_data"
    },
    {
     "data": {
      "image/png": "[encoded data removed]",
      "text/plain": [
       "plot without title"
      ]
     },
     "metadata": {
      "image/png": {
       "height": 420,
       "width": 420
      }
     },
     "output_type": "display_data"
    }
   ],
   "source": [
    "# Filter the dataset for \"High Quality of Evidence\" and include only OR or RRR\n",
    "high_quality_evidence_data <- dataset %>%\n",
    "  filter(\n",
    "    `Broader Driver Category` == \"High Quality of Evidence\" & \n",
    "    `Type of Association Measure` %in% c(\"OR\", \"RRR\")\n",
    "  ) %>%\n",
    "  arrange(Association)\n",
    "\n",
    "# Add RRR/OR next to Reference\n",
    "high_quality_evidence_data$Reference <- factor(paste0(high_quality_evidence_data$Reference, \" - \", high_quality_evidence_data$`Type of Association Measure`),\n",
    "                                                levels = unique(paste0(high_quality_evidence_data$Reference, \" - \", high_quality_evidence_data$`Type of Association Measure`)))\n",
    "\n",
    "# Ensure `Association` is numeric\n",
    "high_quality_evidence_data$Association <- as.numeric(high_quality_evidence_data$Association)\n",
    "\n",
    "# Forest plot with labels but no legend\n",
    "forest_plot_with_labels <- ggplot(high_quality_evidence_data, aes(x = Reference, y = Association)) +\n",
    "    # Add confidence interval lines\n",
    "    geom_linerange(aes(ymin = `Lower Bound of 95%CI`, ymax = `Upper Bound of 95%CI`, color = `Countries Assessed`), \n",
    "                   position = position_dodge(width = 0.5), \n",
    "                   size = 1) +  # Line thickness\n",
    "    # Add points\n",
    "    geom_point(aes(color = `Countries Assessed`), \n",
    "               position = position_dodge(width = 0.5), \n",
    "               size = 2) +  # Dot size\n",
    "    # Add line of no effect\n",
    "    geom_hline(yintercept = 1, linetype = \"dashed\", color = \"red\", size = 1) +  # Thickness\n",
    "    # Flip coordinates for horizontal plot\n",
    "    coord_flip() +\n",
    "    # Labels and theme\n",
    "    labs(\n",
    "        title = \"Forest Plot: High Quality of Evidence\",\n",
    "        x = \"Studies (Reference)\",\n",
    "        y = \"Relative Risk Ratio (RRR) / Odds Ratio (OR)\",\n",
    "        color = NULL  # Remove legend title\n",
    "    ) +\n",
    "    scale_y_continuous(\n",
    "        limits = c(0, 100),  # Fixed scale\n",
    "        breaks = seq(0, 100, by = 10),  # Adjust tick marks\n",
    "        labels = scales::number_format(accuracy = 0.1)  # Control decimal places\n",
    "    ) +\n",
    "    theme_minimal(base_size = 12) +\n",
    "    theme(\n",
    "        legend.position = \"none\",  # Remove the legend\n",
    "        axis.text.y = element_text(size = 8),  # Study names text size\n",
    "        axis.title.y = element_text(size = 12),\n",
    "        plot.margin = margin(5, 5, 5, 5)  # Add some padding\n",
    "    )\n",
    "\n",
    "# Create a dummy plot to extract the legend for high quality of evidence data\n",
    "legend_plot <- ggplot(high_quality_evidence_data, aes(x = Reference, y = Association, color = `Countries Assessed`)) +\n",
    "    geom_point() +\n",
    "    labs(color = \"Countries Assessed\") +\n",
    "    theme_minimal(base_size = 12) +\n",
    "    theme(\n",
    "        legend.key.size = unit(1, \"cm\"),  # Adjust legend key size\n",
    "        legend.text = element_text(size = 10)  # Adjust legend text size\n",
    "    )\n",
    "\n",
    "# Extract the legend\n",
    "legend <- get_legend(legend_plot)\n",
    "\n",
    "# Print the forest plot with labels\n",
    "print(forest_plot_with_labels)\n",
    "\n",
    "# Print the legend separately\n",
    "plot_grid(legend, ncol = 1)"
   ]
  },
  {
   "cell_type": "markdown",
   "metadata": {},
   "source": [
    "Appendix Graphs"
   ]
  },
  {
   "cell_type": "code",
   "execution_count": 67,
   "metadata": {
    "vscode": {
     "languageId": "r"
    }
   },
   "outputs": [
    {
     "data": {
      "text/html": [
       "<style>\n",
       ".list-inline {list-style: none; margin:0; padding: 0}\n",
       ".list-inline>li {display: inline-block}\n",
       ".list-inline>li:not(:last-child)::after {content: \"\\00b7\"; padding: 0 .5ex}\n",
       "</style>\n",
       "<ol class=list-inline><li>'All Full-Texts Included'</li><li>'Country Counts'</li><li>'Continent Counts'</li><li>'Type of Source Counts'</li><li>'Study Objective Counts'</li><li>'Stat Methods Counts'</li><li>'Years Counts'</li><li>'Papers Identified from SLR'</li><li>'Additional Papers - Other SLRs'</li><li>'Estimates - Tech Charact'</li><li>'Estimates - Countries Comp'</li><li>'Estimates - Disease Char'</li><li>'Estimates - Other Drivers'</li><li>'Estimates - Clin Effectiveness'</li><li>'Estimates - Clinical Evidence'</li><li>'Estimates - Econ Drivers'</li><li>'LCU to Int$ per year'</li><li>'FINAL TABLES FOR ANALYSIS'</li></ol>\n"
      ],
      "text/latex": [
       "\\begin{enumerate*}\n",
       "\\item 'All Full-Texts Included'\n",
       "\\item 'Country Counts'\n",
       "\\item 'Continent Counts'\n",
       "\\item 'Type of Source Counts'\n",
       "\\item 'Study Objective Counts'\n",
       "\\item 'Stat Methods Counts'\n",
       "\\item 'Years Counts'\n",
       "\\item 'Papers Identified from SLR'\n",
       "\\item 'Additional Papers - Other SLRs'\n",
       "\\item 'Estimates - Tech Charact'\n",
       "\\item 'Estimates - Countries Comp'\n",
       "\\item 'Estimates - Disease Char'\n",
       "\\item 'Estimates - Other Drivers'\n",
       "\\item 'Estimates - Clin Effectiveness'\n",
       "\\item 'Estimates - Clinical Evidence'\n",
       "\\item 'Estimates - Econ Drivers'\n",
       "\\item 'LCU to Int\\$ per year'\n",
       "\\item 'FINAL TABLES FOR ANALYSIS'\n",
       "\\end{enumerate*}\n"
      ],
      "text/markdown": [
       "1. 'All Full-Texts Included'\n",
       "2. 'Country Counts'\n",
       "3. 'Continent Counts'\n",
       "4. 'Type of Source Counts'\n",
       "5. 'Study Objective Counts'\n",
       "6. 'Stat Methods Counts'\n",
       "7. 'Years Counts'\n",
       "8. 'Papers Identified from SLR'\n",
       "9. 'Additional Papers - Other SLRs'\n",
       "10. 'Estimates - Tech Charact'\n",
       "11. 'Estimates - Countries Comp'\n",
       "12. 'Estimates - Disease Char'\n",
       "13. 'Estimates - Other Drivers'\n",
       "14. 'Estimates - Clin Effectiveness'\n",
       "15. 'Estimates - Clinical Evidence'\n",
       "16. 'Estimates - Econ Drivers'\n",
       "17. 'LCU to Int$ per year'\n",
       "18. 'FINAL TABLES FOR ANALYSIS'\n",
       "\n",
       "\n"
      ],
      "text/plain": [
       " [1] \"All Full-Texts Included\"        \"Country Counts\"                \n",
       " [3] \"Continent Counts\"               \"Type of Source Counts\"         \n",
       " [5] \"Study Objective Counts\"         \"Stat Methods Counts\"           \n",
       " [7] \"Years Counts\"                   \"Papers Identified from SLR\"    \n",
       " [9] \"Additional Papers - Other SLRs\" \"Estimates - Tech Charact\"      \n",
       "[11] \"Estimates - Countries Comp\"     \"Estimates - Disease Char\"      \n",
       "[13] \"Estimates - Other Drivers\"      \"Estimates - Clin Effectiveness\"\n",
       "[15] \"Estimates - Clinical Evidence\"  \"Estimates - Econ Drivers\"      \n",
       "[17] \"LCU to Int$ per year\"           \"FINAL TABLES FOR ANALYSIS\"     "
      ]
     },
     "metadata": {},
     "output_type": "display_data"
    },
    {
     "data": {
      "text/html": [
       "<table class=\"dataframe\">\n",
       "<caption>A tibble: 31 × 2</caption>\n",
       "<thead>\n",
       "\t<tr><th scope=col>Countries</th><th scope=col>Counts</th></tr>\n",
       "\t<tr><th scope=col>&lt;chr&gt;</th><th scope=col>&lt;dbl&gt;</th></tr>\n",
       "</thead>\n",
       "<tbody>\n",
       "\t<tr><td>Australia  </td><td>13</td></tr>\n",
       "\t<tr><td>Belgium    </td><td> 2</td></tr>\n",
       "\t<tr><td>Brazil     </td><td> 2</td></tr>\n",
       "\t<tr><td>Bulgaria   </td><td> 1</td></tr>\n",
       "\t<tr><td>Canada     </td><td> 7</td></tr>\n",
       "\t<tr><td>China      </td><td> 1</td></tr>\n",
       "\t<tr><td>Croatia    </td><td> 1</td></tr>\n",
       "\t<tr><td>Czechia    </td><td> 1</td></tr>\n",
       "\t<tr><td>Denmark    </td><td> 2</td></tr>\n",
       "\t<tr><td>England    </td><td>13</td></tr>\n",
       "\t<tr><td>Estonia    </td><td> 1</td></tr>\n",
       "\t<tr><td>France     </td><td> 8</td></tr>\n",
       "\t<tr><td>Germany    </td><td> 8</td></tr>\n",
       "\t<tr><td>Hungary    </td><td> 3</td></tr>\n",
       "\t<tr><td>Ireland    </td><td> 1</td></tr>\n",
       "\t<tr><td>Italy      </td><td> 2</td></tr>\n",
       "\t<tr><td>Latvia     </td><td> 1</td></tr>\n",
       "\t<tr><td>Lithuania  </td><td> 1</td></tr>\n",
       "\t<tr><td>Netherlands</td><td> 6</td></tr>\n",
       "\t<tr><td>New Zealand</td><td> 1</td></tr>\n",
       "\t<tr><td>Norway     </td><td> 2</td></tr>\n",
       "\t<tr><td>Poland     </td><td> 5</td></tr>\n",
       "\t<tr><td>Romania    </td><td> 1</td></tr>\n",
       "\t<tr><td>Scotland   </td><td> 7</td></tr>\n",
       "\t<tr><td>Slovakia   </td><td> 1</td></tr>\n",
       "\t<tr><td>South Korea</td><td> 2</td></tr>\n",
       "\t<tr><td>Spain      </td><td> 3</td></tr>\n",
       "\t<tr><td>Sweden     </td><td> 6</td></tr>\n",
       "\t<tr><td>Switzerland</td><td> 1</td></tr>\n",
       "\t<tr><td>USA        </td><td> 3</td></tr>\n",
       "\t<tr><td>Wales      </td><td> 2</td></tr>\n",
       "</tbody>\n",
       "</table>\n"
      ],
      "text/latex": [
       "A tibble: 31 × 2\n",
       "\\begin{tabular}{ll}\n",
       " Countries & Counts\\\\\n",
       " <chr> & <dbl>\\\\\n",
       "\\hline\n",
       "\t Australia   & 13\\\\\n",
       "\t Belgium     &  2\\\\\n",
       "\t Brazil      &  2\\\\\n",
       "\t Bulgaria    &  1\\\\\n",
       "\t Canada      &  7\\\\\n",
       "\t China       &  1\\\\\n",
       "\t Croatia     &  1\\\\\n",
       "\t Czechia     &  1\\\\\n",
       "\t Denmark     &  2\\\\\n",
       "\t England     & 13\\\\\n",
       "\t Estonia     &  1\\\\\n",
       "\t France      &  8\\\\\n",
       "\t Germany     &  8\\\\\n",
       "\t Hungary     &  3\\\\\n",
       "\t Ireland     &  1\\\\\n",
       "\t Italy       &  2\\\\\n",
       "\t Latvia      &  1\\\\\n",
       "\t Lithuania   &  1\\\\\n",
       "\t Netherlands &  6\\\\\n",
       "\t New Zealand &  1\\\\\n",
       "\t Norway      &  2\\\\\n",
       "\t Poland      &  5\\\\\n",
       "\t Romania     &  1\\\\\n",
       "\t Scotland    &  7\\\\\n",
       "\t Slovakia    &  1\\\\\n",
       "\t South Korea &  2\\\\\n",
       "\t Spain       &  3\\\\\n",
       "\t Sweden      &  6\\\\\n",
       "\t Switzerland &  1\\\\\n",
       "\t USA         &  3\\\\\n",
       "\t Wales       &  2\\\\\n",
       "\\end{tabular}\n"
      ],
      "text/markdown": [
       "\n",
       "A tibble: 31 × 2\n",
       "\n",
       "| Countries &lt;chr&gt; | Counts &lt;dbl&gt; |\n",
       "|---|---|\n",
       "| Australia   | 13 |\n",
       "| Belgium     |  2 |\n",
       "| Brazil      |  2 |\n",
       "| Bulgaria    |  1 |\n",
       "| Canada      |  7 |\n",
       "| China       |  1 |\n",
       "| Croatia     |  1 |\n",
       "| Czechia     |  1 |\n",
       "| Denmark     |  2 |\n",
       "| England     | 13 |\n",
       "| Estonia     |  1 |\n",
       "| France      |  8 |\n",
       "| Germany     |  8 |\n",
       "| Hungary     |  3 |\n",
       "| Ireland     |  1 |\n",
       "| Italy       |  2 |\n",
       "| Latvia      |  1 |\n",
       "| Lithuania   |  1 |\n",
       "| Netherlands |  6 |\n",
       "| New Zealand |  1 |\n",
       "| Norway      |  2 |\n",
       "| Poland      |  5 |\n",
       "| Romania     |  1 |\n",
       "| Scotland    |  7 |\n",
       "| Slovakia    |  1 |\n",
       "| South Korea |  2 |\n",
       "| Spain       |  3 |\n",
       "| Sweden      |  6 |\n",
       "| Switzerland |  1 |\n",
       "| USA         |  3 |\n",
       "| Wales       |  2 |\n",
       "\n"
      ],
      "text/plain": [
       "   Countries   Counts\n",
       "1  Australia   13    \n",
       "2  Belgium      2    \n",
       "3  Brazil       2    \n",
       "4  Bulgaria     1    \n",
       "5  Canada       7    \n",
       "6  China        1    \n",
       "7  Croatia      1    \n",
       "8  Czechia      1    \n",
       "9  Denmark      2    \n",
       "10 England     13    \n",
       "11 Estonia      1    \n",
       "12 France       8    \n",
       "13 Germany      8    \n",
       "14 Hungary      3    \n",
       "15 Ireland      1    \n",
       "16 Italy        2    \n",
       "17 Latvia       1    \n",
       "18 Lithuania    1    \n",
       "19 Netherlands  6    \n",
       "20 New Zealand  1    \n",
       "21 Norway       2    \n",
       "22 Poland       5    \n",
       "23 Romania      1    \n",
       "24 Scotland     7    \n",
       "25 Slovakia     1    \n",
       "26 South Korea  2    \n",
       "27 Spain        3    \n",
       "28 Sweden       6    \n",
       "29 Switzerland  1    \n",
       "30 USA          3    \n",
       "31 Wales        2    "
      ]
     },
     "metadata": {},
     "output_type": "display_data"
    }
   ],
   "source": [
    "# Define the path to your Excel file\n",
    "file_path <- here(\"final_extraction_and_synthesis.xlsm\")\n",
    "\n",
    "# Check available sheets in the workbook\n",
    "excel_sheets(file_path)\n",
    "\n",
    "# Read a specific sheet (replace \"Sheet1\" with the exact sheet name if different)\n",
    "Country_Counts <- read_excel(file_path, sheet = \"Country Counts\")  # Replace \"Sheet1\" with your actual sheet name\n",
    "\n",
    "#View the first few rows of the data\n",
    "Country_Counts"
   ]
  },
  {
   "cell_type": "code",
   "execution_count": 68,
   "metadata": {
    "vscode": {
     "languageId": "r"
    }
   },
   "outputs": [
    {
     "data": {
      "image/png": "[encoded data removed]",
      "text/plain": [
       "plot without title"
      ]
     },
     "metadata": {
      "image/png": {
       "height": 420,
       "width": 420
      }
     },
     "output_type": "display_data"
    }
   ],
   "source": [
    "ggplot(Country_Counts, aes(x = reorder(Countries, Counts), y = Counts)) +\n",
    "  geom_bar(stat = \"identity\", fill = \"skyblue\", color = \"black\") +\n",
    "  geom_text(aes(label = Counts), \n",
    "            hjust = -0.1,        # Adjust label position\n",
    "            size = 3.5,          # Adjust text size\n",
    "            color = \"black\") +   # Text color\n",
    "  theme_minimal() +\n",
    "  labs(title = \"Number of Studies by Country\",\n",
    "       x = \"Country\",\n",
    "       y = \"\") +\n",
    "  theme(axis.text.x = element_text(angle = 45, hjust = 1),\n",
    "        axis.text.y = element_text(size = 10)) +\n",
    "  scale_y_continuous(breaks = seq(0, max(Country_Counts$Counts, na.rm = TRUE) + 1, 1), \n",
    "                     expand = expansion(mult = c(0, 0.1))) +  # Expand space for labels\n",
    "  coord_flip()  #Flip for better readability"
   ]
  },
  {
   "cell_type": "code",
   "execution_count": 69,
   "metadata": {
    "vscode": {
     "languageId": "r"
    }
   },
   "outputs": [
    {
     "data": {
      "text/html": [
       "<table class=\"dataframe\">\n",
       "<caption>A tibble: 3 × 2</caption>\n",
       "<thead>\n",
       "\t<tr><th scope=col>Type of Dataset Used</th><th scope=col>Counts</th></tr>\n",
       "\t<tr><th scope=col>&lt;chr&gt;</th><th scope=col>&lt;dbl&gt;</th></tr>\n",
       "</thead>\n",
       "<tbody>\n",
       "\t<tr><td>Sampling from HTA database            </td><td>19</td></tr>\n",
       "\t<tr><td>Entire HTA database                   </td><td>19</td></tr>\n",
       "\t<tr><td>HTA database specific product/category</td><td>10</td></tr>\n",
       "</tbody>\n",
       "</table>\n"
      ],
      "text/latex": [
       "A tibble: 3 × 2\n",
       "\\begin{tabular}{ll}\n",
       " Type of Dataset Used & Counts\\\\\n",
       " <chr> & <dbl>\\\\\n",
       "\\hline\n",
       "\t Sampling from HTA database             & 19\\\\\n",
       "\t Entire HTA database                    & 19\\\\\n",
       "\t HTA database specific product/category & 10\\\\\n",
       "\\end{tabular}\n"
      ],
      "text/markdown": [
       "\n",
       "A tibble: 3 × 2\n",
       "\n",
       "| Type of Dataset Used &lt;chr&gt; | Counts &lt;dbl&gt; |\n",
       "|---|---|\n",
       "| Sampling from HTA database             | 19 |\n",
       "| Entire HTA database                    | 19 |\n",
       "| HTA database specific product/category | 10 |\n",
       "\n"
      ],
      "text/plain": [
       "  Type of Dataset Used                   Counts\n",
       "1 Sampling from HTA database             19    \n",
       "2 Entire HTA database                    19    \n",
       "3 HTA database specific product/category 10    "
      ]
     },
     "metadata": {},
     "output_type": "display_data"
    }
   ],
   "source": [
    "# Read a specific sheet (replace \"Sheet1\" with the exact sheet name if different)\n",
    "Type_of_Source_Counts <- read_excel(file_path, sheet = \"Type of Source Counts\")  # Replace \"Sheet1\" with your actual sheet name\n",
    "\n",
    "#View the first few rows of the data\n",
    "Type_of_Source_Counts"
   ]
  },
  {
   "cell_type": "code",
   "execution_count": 70,
   "metadata": {
    "vscode": {
     "languageId": "r"
    }
   },
   "outputs": [
    {
     "name": "stderr",
     "output_type": "stream",
     "text": [
      "ERROR while rich displaying an object: \u001b[1m\u001b[33mError\u001b[39m in `geom_bar()`:\u001b[22m\n",
      "\u001b[1m\u001b[22m\u001b[33m!\u001b[39m Problem while computing aesthetics.\n",
      "\u001b[36mℹ\u001b[39m Error occurred in the 1st layer.\n",
      "\u001b[1mCaused by error in `loadNamespace()`:\u001b[22m\n",
      "\u001b[33m!\u001b[39m there is no package called 'stringr'\n",
      "\n",
      "Traceback:\n",
      "1. sapply(x, f, simplify = simplify)\n",
      "2. lapply(X = X, FUN = FUN, ...)\n",
      "3. FUN(X[[i]], ...)\n",
      "4. tryCatch(withCallingHandlers({\n",
      " .     if (!mime %in% names(repr::mime2repr)) \n",
      " .         stop(\"No repr_* for mimetype \", mime, \" in repr::mime2repr\")\n",
      " .     rpr <- repr::mime2repr[[mime]](obj)\n",
      " .     if (is.null(rpr)) \n",
      " .         return(NULL)\n",
      " .     prepare_content(is.raw(rpr), rpr)\n",
      " . }, error = error_handler), error = outer_handler)\n",
      "5. tryCatchList(expr, classes, parentenv, handlers)\n",
      "6. tryCatchOne(expr, names, parentenv, handlers[[1L]])\n",
      "7. doTryCatch(return(expr), name, parentenv, handler)\n",
      "8. withCallingHandlers({\n",
      " .     if (!mime %in% names(repr::mime2repr)) \n",
      " .         stop(\"No repr_* for mimetype \", mime, \" in repr::mime2repr\")\n",
      " .     rpr <- repr::mime2repr[[mime]](obj)\n",
      " .     if (is.null(rpr)) \n",
      " .         return(NULL)\n",
      " .     prepare_content(is.raw(rpr), rpr)\n",
      " . }, error = error_handler)\n",
      "9. repr::mime2repr[[mime]](obj)\n",
      "10. repr_text.default(obj)\n",
      "11. paste(capture.output(print(obj)), collapse = \"\\n\")\n",
      "12. capture.output(print(obj))\n",
      "13. withVisible(...elt(i))\n",
      "14. print(obj)\n",
      "15. print.ggplot(obj)\n",
      "16. ggplot_build(x)\n",
      "17. ggplot_build.ggplot(x)\n",
      "18. by_layer(function(l, d) l$compute_aesthetics(d, plot), layers, \n",
      "  .     data, \"computing aesthetics\")\n",
      "19. try_fetch(for (i in seq_along(data)) {\n",
      "  .     out[[i]] <- f(l = layers[[i]], d = data[[i]])\n",
      "  . }, error = function(cnd) {\n",
      "  .     cli::cli_abort(c(\"Problem while {step}.\", i = \"Error occurred in the {ordinal(i)} layer.\"), \n",
      "  .         call = layers[[i]]$constructor, parent = cnd)\n",
      "  . })\n",
      "20. tryCatch(withCallingHandlers(expr, condition = function(cnd) {\n",
      "  .     {\n",
      "  .         .__handler_frame__. <- TRUE\n",
      "  .         .__setup_frame__. <- frame\n",
      "  .         if (inherits(cnd, \"message\")) {\n",
      "  .             except <- c(\"warning\", \"error\")\n",
      "  .         }\n",
      "  .         else if (inherits(cnd, \"warning\")) {\n",
      "  .             except <- \"error\"\n",
      "  .         }\n",
      "  .         else {\n",
      "  .             except <- \"\"\n",
      "  .         }\n",
      "  .     }\n",
      "  .     while (!is_null(cnd)) {\n",
      "  .         if (inherits(cnd, \"error\")) {\n",
      "  .             out <- handlers[[1L]](cnd)\n",
      "  .             if (!inherits(out, \"rlang_zap\")) \n",
      "  .                 throw(out)\n",
      "  .         }\n",
      "  .         inherit <- .subset2(.subset2(cnd, \"rlang\"), \"inherit\")\n",
      "  .         if (is_false(inherit)) {\n",
      "  .             return()\n",
      "  .         }\n",
      "  .         cnd <- .subset2(cnd, \"parent\")\n",
      "  .     }\n",
      "  . }), stackOverflowError = handlers[[1L]])\n",
      "21. tryCatchList(expr, classes, parentenv, handlers)\n",
      "22. tryCatchOne(expr, names, parentenv, handlers[[1L]])\n",
      "23. doTryCatch(return(expr), name, parentenv, handler)\n",
      "24. withCallingHandlers(expr, condition = function(cnd) {\n",
      "  .     {\n",
      "  .         .__handler_frame__. <- TRUE\n",
      "  .         .__setup_frame__. <- frame\n",
      "  .         if (inherits(cnd, \"message\")) {\n",
      "  .             except <- c(\"warning\", \"error\")\n",
      "  .         }\n",
      "  .         else if (inherits(cnd, \"warning\")) {\n",
      "  .             except <- \"error\"\n",
      "  .         }\n",
      "  .         else {\n",
      "  .             except <- \"\"\n",
      "  .         }\n",
      "  .     }\n",
      "  .     while (!is_null(cnd)) {\n",
      "  .         if (inherits(cnd, \"error\")) {\n",
      "  .             out <- handlers[[1L]](cnd)\n",
      "  .             if (!inherits(out, \"rlang_zap\")) \n",
      "  .                 throw(out)\n",
      "  .         }\n",
      "  .         inherit <- .subset2(.subset2(cnd, \"rlang\"), \"inherit\")\n",
      "  .         if (is_false(inherit)) {\n",
      "  .             return()\n",
      "  .         }\n",
      "  .         cnd <- .subset2(cnd, \"parent\")\n",
      "  .     }\n",
      "  . })\n",
      "25. f(l = layers[[i]], d = data[[i]])\n",
      "26. l$compute_aesthetics(d, plot)\n",
      "27. compute_aesthetics(..., self = self)\n",
      "28. lapply(aesthetics, eval_tidy, data = data, env = env)\n",
      "29. FUN(X[[i]], ...)\n",
      "30. reorder(stringr::str_wrap(`Type of Dataset Used`, width = 20), \n",
      "  .     Counts)\n",
      "31. loadNamespace(x)\n",
      "32. withRestarts(stop(cond), retry_loadNamespace = function() NULL)\n",
      "33. withOneRestart(expr, restarts[[1L]])\n",
      "34. doWithOneRestart(return(expr), restart)\n",
      "35. stop(cond)\n",
      "36. (function (cnd) \n",
      "  . {\n",
      "  .     {\n",
      "  .         .__handler_frame__. <- TRUE\n",
      "  .         .__setup_frame__. <- frame\n",
      "  .         if (inherits(cnd, \"message\")) {\n",
      "  .             except <- c(\"warning\", \"error\")\n",
      "  .         }\n",
      "  .         else if (inherits(cnd, \"warning\")) {\n",
      "  .             except <- \"error\"\n",
      "  .         }\n",
      "  .         else {\n",
      "  .             except <- \"\"\n",
      "  .         }\n",
      "  .     }\n",
      "  .     while (!is_null(cnd)) {\n",
      "  .         if (inherits(cnd, \"error\")) {\n",
      "  .             out <- handlers[[1L]](cnd)\n",
      "  .             if (!inherits(out, \"rlang_zap\")) \n",
      "  .                 throw(out)\n",
      "  .         }\n",
      "  .         inherit <- .subset2(.subset2(cnd, \"rlang\"), \"inherit\")\n",
      "  .         if (is_false(inherit)) {\n",
      "  .             return()\n",
      "  .         }\n",
      "  .         cnd <- .subset2(cnd, \"parent\")\n",
      "  .     }\n",
      "  . })(structure(list(message = \"there is no package called 'stringr'\", \n",
      "  .     call = loadNamespace(x), package = \"stringr\", lib.loc = NULL), class = c(\"packageNotFoundError\", \n",
      "  . \"error\", \"condition\")))\n",
      "37. handlers[[1L]](cnd)\n",
      "38. cli::cli_abort(c(\"Problem while {step}.\", i = \"Error occurred in the {ordinal(i)} layer.\"), \n",
      "  .     call = layers[[i]]$constructor, parent = cnd)\n",
      "39. rlang::abort(message, ..., call = call, use_cli_format = TRUE, \n",
      "  .     .frame = .frame)\n",
      "40. signal_abort(cnd, .file)\n"
     ]
    }
   ],
   "source": [
    "ggplot(Type_of_Source_Counts, aes(x = reorder(stringr::str_wrap(`Type of Dataset Used`, width = 20), Counts), y = Counts)) +\n",
    "  geom_bar(stat = \"identity\", fill = \"skyblue\", color = \"black\") +\n",
    "  geom_text(aes(label = Counts), \n",
    "            vjust = -0.5,        # Adjust label position for vertical bars\n",
    "            size = 3.5, \n",
    "            color = \"black\") +\n",
    "  theme_minimal() +\n",
    "  labs(title = \"Number of Studies by Type of Dataset Used\",\n",
    "       x = \"\",\n",
    "       y = \"Number of Studies\") +\n",
    "  theme(axis.text.x = element_text(angle = 0, hjust = 0.5),  # Center the labels\n",
    "        axis.text.y = element_text(size = 10)) +\n",
    "  scale_y_continuous(breaks = seq(0, max(Type_of_Source_Counts$Counts, na.rm = TRUE) + 5, 5), \n",
    "                     expand = expansion(mult = c(0, 0.1)))\n"
   ]
  },
  {
   "cell_type": "code",
   "execution_count": 71,
   "metadata": {
    "vscode": {
     "languageId": "r"
    }
   },
   "outputs": [
    {
     "data": {
      "text/html": [
       "<table class=\"dataframe\">\n",
       "<caption>A tibble: 3 × 2</caption>\n",
       "<thead>\n",
       "\t<tr><th scope=col>Statistical Methods/ML Algorithms</th><th scope=col>Counts</th></tr>\n",
       "\t<tr><th scope=col>&lt;chr&gt;</th><th scope=col>&lt;dbl&gt;</th></tr>\n",
       "</thead>\n",
       "<tbody>\n",
       "\t<tr><td>Regression                               </td><td>43</td></tr>\n",
       "\t<tr><td>Advanced Machine Learning                </td><td> 2</td></tr>\n",
       "\t<tr><td>Classical statistics (t-test, Chi-Square)</td><td> 3</td></tr>\n",
       "</tbody>\n",
       "</table>\n"
      ],
      "text/latex": [
       "A tibble: 3 × 2\n",
       "\\begin{tabular}{ll}\n",
       " Statistical Methods/ML Algorithms & Counts\\\\\n",
       " <chr> & <dbl>\\\\\n",
       "\\hline\n",
       "\t Regression                                & 43\\\\\n",
       "\t Advanced Machine Learning                 &  2\\\\\n",
       "\t Classical statistics (t-test, Chi-Square) &  3\\\\\n",
       "\\end{tabular}\n"
      ],
      "text/markdown": [
       "\n",
       "A tibble: 3 × 2\n",
       "\n",
       "| Statistical Methods/ML Algorithms &lt;chr&gt; | Counts &lt;dbl&gt; |\n",
       "|---|---|\n",
       "| Regression                                | 43 |\n",
       "| Advanced Machine Learning                 |  2 |\n",
       "| Classical statistics (t-test, Chi-Square) |  3 |\n",
       "\n"
      ],
      "text/plain": [
       "  Statistical Methods/ML Algorithms         Counts\n",
       "1 Regression                                43    \n",
       "2 Advanced Machine Learning                  2    \n",
       "3 Classical statistics (t-test, Chi-Square)  3    "
      ]
     },
     "metadata": {},
     "output_type": "display_data"
    }
   ],
   "source": [
    "# Read a specific sheet (replace \"Sheet1\" with the exact sheet name if different)\n",
    "Stat_Methods_Counts <- read_excel(file_path, sheet = \"Stat Methods Counts\")  # Replace \"Sheet1\" with your actual sheet name\n",
    "\n",
    "#View the first few rows of the data\n",
    "Stat_Methods_Counts"
   ]
  },
  {
   "cell_type": "code",
   "execution_count": 72,
   "metadata": {
    "vscode": {
     "languageId": "r"
    }
   },
   "outputs": [
    {
     "name": "stderr",
     "output_type": "stream",
     "text": [
      "ERROR while rich displaying an object: \u001b[1m\u001b[33mError\u001b[39m in `geom_bar()`:\u001b[22m\n",
      "\u001b[1m\u001b[22m\u001b[33m!\u001b[39m Problem while computing aesthetics.\n",
      "\u001b[36mℹ\u001b[39m Error occurred in the 1st layer.\n",
      "\u001b[1mCaused by error in `loadNamespace()`:\u001b[22m\n",
      "\u001b[33m!\u001b[39m there is no package called 'stringr'\n",
      "\n",
      "Traceback:\n",
      "1. sapply(x, f, simplify = simplify)\n",
      "2. lapply(X = X, FUN = FUN, ...)\n",
      "3. FUN(X[[i]], ...)\n",
      "4. tryCatch(withCallingHandlers({\n",
      " .     if (!mime %in% names(repr::mime2repr)) \n",
      " .         stop(\"No repr_* for mimetype \", mime, \" in repr::mime2repr\")\n",
      " .     rpr <- repr::mime2repr[[mime]](obj)\n",
      " .     if (is.null(rpr)) \n",
      " .         return(NULL)\n",
      " .     prepare_content(is.raw(rpr), rpr)\n",
      " . }, error = error_handler), error = outer_handler)\n",
      "5. tryCatchList(expr, classes, parentenv, handlers)\n",
      "6. tryCatchOne(expr, names, parentenv, handlers[[1L]])\n",
      "7. doTryCatch(return(expr), name, parentenv, handler)\n",
      "8. withCallingHandlers({\n",
      " .     if (!mime %in% names(repr::mime2repr)) \n",
      " .         stop(\"No repr_* for mimetype \", mime, \" in repr::mime2repr\")\n",
      " .     rpr <- repr::mime2repr[[mime]](obj)\n",
      " .     if (is.null(rpr)) \n",
      " .         return(NULL)\n",
      " .     prepare_content(is.raw(rpr), rpr)\n",
      " . }, error = error_handler)\n",
      "9. repr::mime2repr[[mime]](obj)\n",
      "10. repr_text.default(obj)\n",
      "11. paste(capture.output(print(obj)), collapse = \"\\n\")\n",
      "12. capture.output(print(obj))\n",
      "13. withVisible(...elt(i))\n",
      "14. print(obj)\n",
      "15. print.ggplot(obj)\n",
      "16. ggplot_build(x)\n",
      "17. ggplot_build.ggplot(x)\n",
      "18. by_layer(function(l, d) l$compute_aesthetics(d, plot), layers, \n",
      "  .     data, \"computing aesthetics\")\n",
      "19. try_fetch(for (i in seq_along(data)) {\n",
      "  .     out[[i]] <- f(l = layers[[i]], d = data[[i]])\n",
      "  . }, error = function(cnd) {\n",
      "  .     cli::cli_abort(c(\"Problem while {step}.\", i = \"Error occurred in the {ordinal(i)} layer.\"), \n",
      "  .         call = layers[[i]]$constructor, parent = cnd)\n",
      "  . })\n",
      "20. tryCatch(withCallingHandlers(expr, condition = function(cnd) {\n",
      "  .     {\n",
      "  .         .__handler_frame__. <- TRUE\n",
      "  .         .__setup_frame__. <- frame\n",
      "  .         if (inherits(cnd, \"message\")) {\n",
      "  .             except <- c(\"warning\", \"error\")\n",
      "  .         }\n",
      "  .         else if (inherits(cnd, \"warning\")) {\n",
      "  .             except <- \"error\"\n",
      "  .         }\n",
      "  .         else {\n",
      "  .             except <- \"\"\n",
      "  .         }\n",
      "  .     }\n",
      "  .     while (!is_null(cnd)) {\n",
      "  .         if (inherits(cnd, \"error\")) {\n",
      "  .             out <- handlers[[1L]](cnd)\n",
      "  .             if (!inherits(out, \"rlang_zap\")) \n",
      "  .                 throw(out)\n",
      "  .         }\n",
      "  .         inherit <- .subset2(.subset2(cnd, \"rlang\"), \"inherit\")\n",
      "  .         if (is_false(inherit)) {\n",
      "  .             return()\n",
      "  .         }\n",
      "  .         cnd <- .subset2(cnd, \"parent\")\n",
      "  .     }\n",
      "  . }), stackOverflowError = handlers[[1L]])\n",
      "21. tryCatchList(expr, classes, parentenv, handlers)\n",
      "22. tryCatchOne(expr, names, parentenv, handlers[[1L]])\n",
      "23. doTryCatch(return(expr), name, parentenv, handler)\n",
      "24. withCallingHandlers(expr, condition = function(cnd) {\n",
      "  .     {\n",
      "  .         .__handler_frame__. <- TRUE\n",
      "  .         .__setup_frame__. <- frame\n",
      "  .         if (inherits(cnd, \"message\")) {\n",
      "  .             except <- c(\"warning\", \"error\")\n",
      "  .         }\n",
      "  .         else if (inherits(cnd, \"warning\")) {\n",
      "  .             except <- \"error\"\n",
      "  .         }\n",
      "  .         else {\n",
      "  .             except <- \"\"\n",
      "  .         }\n",
      "  .     }\n",
      "  .     while (!is_null(cnd)) {\n",
      "  .         if (inherits(cnd, \"error\")) {\n",
      "  .             out <- handlers[[1L]](cnd)\n",
      "  .             if (!inherits(out, \"rlang_zap\")) \n",
      "  .                 throw(out)\n",
      "  .         }\n",
      "  .         inherit <- .subset2(.subset2(cnd, \"rlang\"), \"inherit\")\n",
      "  .         if (is_false(inherit)) {\n",
      "  .             return()\n",
      "  .         }\n",
      "  .         cnd <- .subset2(cnd, \"parent\")\n",
      "  .     }\n",
      "  . })\n",
      "25. f(l = layers[[i]], d = data[[i]])\n",
      "26. l$compute_aesthetics(d, plot)\n",
      "27. compute_aesthetics(..., self = self)\n",
      "28. lapply(aesthetics, eval_tidy, data = data, env = env)\n",
      "29. FUN(X[[i]], ...)\n",
      "30. reorder(stringr::str_wrap(`Statistical Methods/ML Algorithms`, \n",
      "  .     width = 20), Counts)\n",
      "31. loadNamespace(x)\n",
      "32. withRestarts(stop(cond), retry_loadNamespace = function() NULL)\n",
      "33. withOneRestart(expr, restarts[[1L]])\n",
      "34. doWithOneRestart(return(expr), restart)\n",
      "35. stop(cond)\n",
      "36. (function (cnd) \n",
      "  . {\n",
      "  .     {\n",
      "  .         .__handler_frame__. <- TRUE\n",
      "  .         .__setup_frame__. <- frame\n",
      "  .         if (inherits(cnd, \"message\")) {\n",
      "  .             except <- c(\"warning\", \"error\")\n",
      "  .         }\n",
      "  .         else if (inherits(cnd, \"warning\")) {\n",
      "  .             except <- \"error\"\n",
      "  .         }\n",
      "  .         else {\n",
      "  .             except <- \"\"\n",
      "  .         }\n",
      "  .     }\n",
      "  .     while (!is_null(cnd)) {\n",
      "  .         if (inherits(cnd, \"error\")) {\n",
      "  .             out <- handlers[[1L]](cnd)\n",
      "  .             if (!inherits(out, \"rlang_zap\")) \n",
      "  .                 throw(out)\n",
      "  .         }\n",
      "  .         inherit <- .subset2(.subset2(cnd, \"rlang\"), \"inherit\")\n",
      "  .         if (is_false(inherit)) {\n",
      "  .             return()\n",
      "  .         }\n",
      "  .         cnd <- .subset2(cnd, \"parent\")\n",
      "  .     }\n",
      "  . })(structure(list(message = \"there is no package called 'stringr'\", \n",
      "  .     call = loadNamespace(x), package = \"stringr\", lib.loc = NULL), class = c(\"packageNotFoundError\", \n",
      "  . \"error\", \"condition\")))\n",
      "37. handlers[[1L]](cnd)\n",
      "38. cli::cli_abort(c(\"Problem while {step}.\", i = \"Error occurred in the {ordinal(i)} layer.\"), \n",
      "  .     call = layers[[i]]$constructor, parent = cnd)\n",
      "39. rlang::abort(message, ..., call = call, use_cli_format = TRUE, \n",
      "  .     .frame = .frame)\n",
      "40. signal_abort(cnd, .file)\n"
     ]
    }
   ],
   "source": [
    "ggplot(Stat_Methods_Counts, aes(x = reorder(stringr::str_wrap(`Statistical Methods/ML Algorithms`, width = 20), Counts), y = Counts)) +\n",
    "  geom_bar(stat = \"identity\", fill = \"skyblue\", color = \"black\") +\n",
    "  geom_text(aes(label = Counts), \n",
    "            vjust = -0.3, \n",
    "            size = 3.5, \n",
    "            color = \"black\") +\n",
    "  theme_minimal() +\n",
    "  labs(\n",
    "    title = \"Number of Studies by Statistical Method/ML Algorithm\",\n",
    "    x = \"\",\n",
    "    y = \"Number of Studies\"\n",
    "  ) +\n",
    "  theme(\n",
    "    axis.text.x = element_text(angle = 0, hjust = 0.5),  # Set angle to 0 for proper wrapping\n",
    "    axis.text.y = element_text(size = 10)\n",
    "  ) +\n",
    "  scale_y_continuous(\n",
    "    breaks = seq(0, max(Stat_Methods_Counts$Counts, na.rm = TRUE) + 5, 5),\n",
    "    expand = expansion(mult = c(0, 0.1))\n",
    "  )\n"
   ]
  },
  {
   "cell_type": "code",
   "execution_count": 73,
   "metadata": {
    "vscode": {
     "languageId": "r"
    }
   },
   "outputs": [
    {
     "data": {
      "text/html": [
       "<table class=\"dataframe\">\n",
       "<caption>A tibble: 3 × 2</caption>\n",
       "<thead>\n",
       "\t<tr><th scope=col>Study Objective</th><th scope=col>Counts</th></tr>\n",
       "\t<tr><th scope=col>&lt;chr&gt;</th><th scope=col>&lt;dbl&gt;</th></tr>\n",
       "</thead>\n",
       "<tbody>\n",
       "\t<tr><td>HTA Drivers                      </td><td>42</td></tr>\n",
       "\t<tr><td>Prediction Model for HTA Decision</td><td> 3</td></tr>\n",
       "\t<tr><td>Comparison of HTA bodies         </td><td> 5</td></tr>\n",
       "</tbody>\n",
       "</table>\n"
      ],
      "text/latex": [
       "A tibble: 3 × 2\n",
       "\\begin{tabular}{ll}\n",
       " Study Objective & Counts\\\\\n",
       " <chr> & <dbl>\\\\\n",
       "\\hline\n",
       "\t HTA Drivers                       & 42\\\\\n",
       "\t Prediction Model for HTA Decision &  3\\\\\n",
       "\t Comparison of HTA bodies          &  5\\\\\n",
       "\\end{tabular}\n"
      ],
      "text/markdown": [
       "\n",
       "A tibble: 3 × 2\n",
       "\n",
       "| Study Objective &lt;chr&gt; | Counts &lt;dbl&gt; |\n",
       "|---|---|\n",
       "| HTA Drivers                       | 42 |\n",
       "| Prediction Model for HTA Decision |  3 |\n",
       "| Comparison of HTA bodies          |  5 |\n",
       "\n"
      ],
      "text/plain": [
       "  Study Objective                   Counts\n",
       "1 HTA Drivers                       42    \n",
       "2 Prediction Model for HTA Decision  3    \n",
       "3 Comparison of HTA bodies           5    "
      ]
     },
     "metadata": {},
     "output_type": "display_data"
    }
   ],
   "source": [
    "# Read a specific sheet (replace \"Sheet1\" with the exact sheet name if different)\n",
    "Stat_Methods_Counts <- read_excel(file_path, sheet = \"Study Objective Counts\")  # Replace \"Sheet1\" with your actual sheet name\n",
    "\n",
    "#View the first few rows of the data\n",
    "Stat_Methods_Counts"
   ]
  },
  {
   "cell_type": "code",
   "execution_count": 74,
   "metadata": {
    "vscode": {
     "languageId": "r"
    }
   },
   "outputs": [
    {
     "name": "stderr",
     "output_type": "stream",
     "text": [
      "ERROR while rich displaying an object: \u001b[1m\u001b[33mError\u001b[39m in `geom_bar()`:\u001b[22m\n",
      "\u001b[1m\u001b[22m\u001b[33m!\u001b[39m Problem while computing aesthetics.\n",
      "\u001b[36mℹ\u001b[39m Error occurred in the 1st layer.\n",
      "\u001b[1mCaused by error in `loadNamespace()`:\u001b[22m\n",
      "\u001b[33m!\u001b[39m there is no package called 'stringr'\n",
      "\n",
      "Traceback:\n",
      "1. sapply(x, f, simplify = simplify)\n",
      "2. lapply(X = X, FUN = FUN, ...)\n",
      "3. FUN(X[[i]], ...)\n",
      "4. tryCatch(withCallingHandlers({\n",
      " .     if (!mime %in% names(repr::mime2repr)) \n",
      " .         stop(\"No repr_* for mimetype \", mime, \" in repr::mime2repr\")\n",
      " .     rpr <- repr::mime2repr[[mime]](obj)\n",
      " .     if (is.null(rpr)) \n",
      " .         return(NULL)\n",
      " .     prepare_content(is.raw(rpr), rpr)\n",
      " . }, error = error_handler), error = outer_handler)\n",
      "5. tryCatchList(expr, classes, parentenv, handlers)\n",
      "6. tryCatchOne(expr, names, parentenv, handlers[[1L]])\n",
      "7. doTryCatch(return(expr), name, parentenv, handler)\n",
      "8. withCallingHandlers({\n",
      " .     if (!mime %in% names(repr::mime2repr)) \n",
      " .         stop(\"No repr_* for mimetype \", mime, \" in repr::mime2repr\")\n",
      " .     rpr <- repr::mime2repr[[mime]](obj)\n",
      " .     if (is.null(rpr)) \n",
      " .         return(NULL)\n",
      " .     prepare_content(is.raw(rpr), rpr)\n",
      " . }, error = error_handler)\n",
      "9. repr::mime2repr[[mime]](obj)\n",
      "10. repr_text.default(obj)\n",
      "11. paste(capture.output(print(obj)), collapse = \"\\n\")\n",
      "12. capture.output(print(obj))\n",
      "13. withVisible(...elt(i))\n",
      "14. print(obj)\n",
      "15. print.ggplot(obj)\n",
      "16. ggplot_build(x)\n",
      "17. ggplot_build.ggplot(x)\n",
      "18. by_layer(function(l, d) l$compute_aesthetics(d, plot), layers, \n",
      "  .     data, \"computing aesthetics\")\n",
      "19. try_fetch(for (i in seq_along(data)) {\n",
      "  .     out[[i]] <- f(l = layers[[i]], d = data[[i]])\n",
      "  . }, error = function(cnd) {\n",
      "  .     cli::cli_abort(c(\"Problem while {step}.\", i = \"Error occurred in the {ordinal(i)} layer.\"), \n",
      "  .         call = layers[[i]]$constructor, parent = cnd)\n",
      "  . })\n",
      "20. tryCatch(withCallingHandlers(expr, condition = function(cnd) {\n",
      "  .     {\n",
      "  .         .__handler_frame__. <- TRUE\n",
      "  .         .__setup_frame__. <- frame\n",
      "  .         if (inherits(cnd, \"message\")) {\n",
      "  .             except <- c(\"warning\", \"error\")\n",
      "  .         }\n",
      "  .         else if (inherits(cnd, \"warning\")) {\n",
      "  .             except <- \"error\"\n",
      "  .         }\n",
      "  .         else {\n",
      "  .             except <- \"\"\n",
      "  .         }\n",
      "  .     }\n",
      "  .     while (!is_null(cnd)) {\n",
      "  .         if (inherits(cnd, \"error\")) {\n",
      "  .             out <- handlers[[1L]](cnd)\n",
      "  .             if (!inherits(out, \"rlang_zap\")) \n",
      "  .                 throw(out)\n",
      "  .         }\n",
      "  .         inherit <- .subset2(.subset2(cnd, \"rlang\"), \"inherit\")\n",
      "  .         if (is_false(inherit)) {\n",
      "  .             return()\n",
      "  .         }\n",
      "  .         cnd <- .subset2(cnd, \"parent\")\n",
      "  .     }\n",
      "  . }), stackOverflowError = handlers[[1L]])\n",
      "21. tryCatchList(expr, classes, parentenv, handlers)\n",
      "22. tryCatchOne(expr, names, parentenv, handlers[[1L]])\n",
      "23. doTryCatch(return(expr), name, parentenv, handler)\n",
      "24. withCallingHandlers(expr, condition = function(cnd) {\n",
      "  .     {\n",
      "  .         .__handler_frame__. <- TRUE\n",
      "  .         .__setup_frame__. <- frame\n",
      "  .         if (inherits(cnd, \"message\")) {\n",
      "  .             except <- c(\"warning\", \"error\")\n",
      "  .         }\n",
      "  .         else if (inherits(cnd, \"warning\")) {\n",
      "  .             except <- \"error\"\n",
      "  .         }\n",
      "  .         else {\n",
      "  .             except <- \"\"\n",
      "  .         }\n",
      "  .     }\n",
      "  .     while (!is_null(cnd)) {\n",
      "  .         if (inherits(cnd, \"error\")) {\n",
      "  .             out <- handlers[[1L]](cnd)\n",
      "  .             if (!inherits(out, \"rlang_zap\")) \n",
      "  .                 throw(out)\n",
      "  .         }\n",
      "  .         inherit <- .subset2(.subset2(cnd, \"rlang\"), \"inherit\")\n",
      "  .         if (is_false(inherit)) {\n",
      "  .             return()\n",
      "  .         }\n",
      "  .         cnd <- .subset2(cnd, \"parent\")\n",
      "  .     }\n",
      "  . })\n",
      "25. f(l = layers[[i]], d = data[[i]])\n",
      "26. l$compute_aesthetics(d, plot)\n",
      "27. compute_aesthetics(..., self = self)\n",
      "28. lapply(aesthetics, eval_tidy, data = data, env = env)\n",
      "29. FUN(X[[i]], ...)\n",
      "30. reorder(stringr::str_wrap(`Study Objective`, width = 20), Counts)\n",
      "31. loadNamespace(x)\n",
      "32. withRestarts(stop(cond), retry_loadNamespace = function() NULL)\n",
      "33. withOneRestart(expr, restarts[[1L]])\n",
      "34. doWithOneRestart(return(expr), restart)\n",
      "35. stop(cond)\n",
      "36. (function (cnd) \n",
      "  . {\n",
      "  .     {\n",
      "  .         .__handler_frame__. <- TRUE\n",
      "  .         .__setup_frame__. <- frame\n",
      "  .         if (inherits(cnd, \"message\")) {\n",
      "  .             except <- c(\"warning\", \"error\")\n",
      "  .         }\n",
      "  .         else if (inherits(cnd, \"warning\")) {\n",
      "  .             except <- \"error\"\n",
      "  .         }\n",
      "  .         else {\n",
      "  .             except <- \"\"\n",
      "  .         }\n",
      "  .     }\n",
      "  .     while (!is_null(cnd)) {\n",
      "  .         if (inherits(cnd, \"error\")) {\n",
      "  .             out <- handlers[[1L]](cnd)\n",
      "  .             if (!inherits(out, \"rlang_zap\")) \n",
      "  .                 throw(out)\n",
      "  .         }\n",
      "  .         inherit <- .subset2(.subset2(cnd, \"rlang\"), \"inherit\")\n",
      "  .         if (is_false(inherit)) {\n",
      "  .             return()\n",
      "  .         }\n",
      "  .         cnd <- .subset2(cnd, \"parent\")\n",
      "  .     }\n",
      "  . })(structure(list(message = \"there is no package called 'stringr'\", \n",
      "  .     call = loadNamespace(x), package = \"stringr\", lib.loc = NULL), class = c(\"packageNotFoundError\", \n",
      "  . \"error\", \"condition\")))\n",
      "37. handlers[[1L]](cnd)\n",
      "38. cli::cli_abort(c(\"Problem while {step}.\", i = \"Error occurred in the {ordinal(i)} layer.\"), \n",
      "  .     call = layers[[i]]$constructor, parent = cnd)\n",
      "39. rlang::abort(message, ..., call = call, use_cli_format = TRUE, \n",
      "  .     .frame = .frame)\n",
      "40. signal_abort(cnd, .file)\n"
     ]
    }
   ],
   "source": [
    "ggplot(Stat_Methods_Counts, aes(x = reorder(stringr::str_wrap(`Study Objective`, width = 20), Counts), y = Counts)) +\n",
    "  geom_bar(stat = \"identity\", fill = \"skyblue\", color = \"black\") +\n",
    "  geom_text(aes(label = Counts), \n",
    "            vjust = -0.3, \n",
    "            size = 3.5, \n",
    "            color = \"black\") +\n",
    "  theme_minimal() +\n",
    "  labs(\n",
    "    title = \"Number of Studies by Study Objective\",\n",
    "    x = \"\",\n",
    "    y = \"Number of Studies\"\n",
    "  ) +\n",
    "  theme(\n",
    "    axis.text.x = element_text(angle = 0, hjust = 0.5),  # Set angle to 0 for proper wrapping\n",
    "    axis.text.y = element_text(size = 10)\n",
    "  ) +\n",
    "  scale_y_continuous(\n",
    "    breaks = seq(0, max(Stat_Methods_Counts$Counts, na.rm = TRUE) + 5, 5),\n",
    "    expand = expansion(mult = c(0, 0.1))\n",
    "  )"
   ]
  },
  {
   "cell_type": "code",
   "execution_count": 75,
   "metadata": {
    "vscode": {
     "languageId": "r"
    }
   },
   "outputs": [
    {
     "data": {
      "text/html": [
       "<table class=\"dataframe\">\n",
       "<caption>A tibble: 18 × 2</caption>\n",
       "<thead>\n",
       "\t<tr><th scope=col>Years</th><th scope=col>Counts</th></tr>\n",
       "\t<tr><th scope=col>&lt;dbl&gt;</th><th scope=col>&lt;dbl&gt;</th></tr>\n",
       "</thead>\n",
       "<tbody>\n",
       "\t<tr><td>2006</td><td>2</td></tr>\n",
       "\t<tr><td>2007</td><td>0</td></tr>\n",
       "\t<tr><td>2008</td><td>1</td></tr>\n",
       "\t<tr><td>2009</td><td>0</td></tr>\n",
       "\t<tr><td>2010</td><td>1</td></tr>\n",
       "\t<tr><td>2011</td><td>0</td></tr>\n",
       "\t<tr><td>2012</td><td>2</td></tr>\n",
       "\t<tr><td>2013</td><td>4</td></tr>\n",
       "\t<tr><td>2014</td><td>3</td></tr>\n",
       "\t<tr><td>2015</td><td>6</td></tr>\n",
       "\t<tr><td>2016</td><td>4</td></tr>\n",
       "\t<tr><td>2017</td><td>2</td></tr>\n",
       "\t<tr><td>2018</td><td>3</td></tr>\n",
       "\t<tr><td>2019</td><td>3</td></tr>\n",
       "\t<tr><td>2020</td><td>2</td></tr>\n",
       "\t<tr><td>2021</td><td>2</td></tr>\n",
       "\t<tr><td>2022</td><td>7</td></tr>\n",
       "\t<tr><td>2023</td><td>6</td></tr>\n",
       "</tbody>\n",
       "</table>\n"
      ],
      "text/latex": [
       "A tibble: 18 × 2\n",
       "\\begin{tabular}{ll}\n",
       " Years & Counts\\\\\n",
       " <dbl> & <dbl>\\\\\n",
       "\\hline\n",
       "\t 2006 & 2\\\\\n",
       "\t 2007 & 0\\\\\n",
       "\t 2008 & 1\\\\\n",
       "\t 2009 & 0\\\\\n",
       "\t 2010 & 1\\\\\n",
       "\t 2011 & 0\\\\\n",
       "\t 2012 & 2\\\\\n",
       "\t 2013 & 4\\\\\n",
       "\t 2014 & 3\\\\\n",
       "\t 2015 & 6\\\\\n",
       "\t 2016 & 4\\\\\n",
       "\t 2017 & 2\\\\\n",
       "\t 2018 & 3\\\\\n",
       "\t 2019 & 3\\\\\n",
       "\t 2020 & 2\\\\\n",
       "\t 2021 & 2\\\\\n",
       "\t 2022 & 7\\\\\n",
       "\t 2023 & 6\\\\\n",
       "\\end{tabular}\n"
      ],
      "text/markdown": [
       "\n",
       "A tibble: 18 × 2\n",
       "\n",
       "| Years &lt;dbl&gt; | Counts &lt;dbl&gt; |\n",
       "|---|---|\n",
       "| 2006 | 2 |\n",
       "| 2007 | 0 |\n",
       "| 2008 | 1 |\n",
       "| 2009 | 0 |\n",
       "| 2010 | 1 |\n",
       "| 2011 | 0 |\n",
       "| 2012 | 2 |\n",
       "| 2013 | 4 |\n",
       "| 2014 | 3 |\n",
       "| 2015 | 6 |\n",
       "| 2016 | 4 |\n",
       "| 2017 | 2 |\n",
       "| 2018 | 3 |\n",
       "| 2019 | 3 |\n",
       "| 2020 | 2 |\n",
       "| 2021 | 2 |\n",
       "| 2022 | 7 |\n",
       "| 2023 | 6 |\n",
       "\n"
      ],
      "text/plain": [
       "   Years Counts\n",
       "1  2006  2     \n",
       "2  2007  0     \n",
       "3  2008  1     \n",
       "4  2009  0     \n",
       "5  2010  1     \n",
       "6  2011  0     \n",
       "7  2012  2     \n",
       "8  2013  4     \n",
       "9  2014  3     \n",
       "10 2015  6     \n",
       "11 2016  4     \n",
       "12 2017  2     \n",
       "13 2018  3     \n",
       "14 2019  3     \n",
       "15 2020  2     \n",
       "16 2021  2     \n",
       "17 2022  7     \n",
       "18 2023  6     "
      ]
     },
     "metadata": {},
     "output_type": "display_data"
    }
   ],
   "source": [
    "\n",
    "# Read a specific sheet (replace \"Sheet1\" with the exact sheet name if different)\n",
    "Years_Counts <- read_excel(file_path, sheet = \"Years Counts\")  # Replace \"Sheet1\" with your actual sheet name\n",
    "\n",
    "#View the first few rows of the data\n",
    "Years_Counts"
   ]
  },
  {
   "cell_type": "code",
   "execution_count": 76,
   "metadata": {
    "vscode": {
     "languageId": "r"
    }
   },
   "outputs": [
    {
     "data": {
      "image/png": "[encoded data removed]",
      "text/plain": [
       "plot without title"
      ]
     },
     "metadata": {
      "image/png": {
       "height": 420,
       "width": 420
      }
     },
     "output_type": "display_data"
    }
   ],
   "source": [
    "ggplot(Years_Counts, aes(x = factor(Years), y = Counts)) +\n",
    "  geom_bar(stat = \"identity\", fill = \"skyblue\", color = \"black\") +\n",
    "  geom_text(aes(label = Counts), \n",
    "            vjust = -0.5,        # Position labels above bars\n",
    "            size = 3.5,          # Text size\n",
    "            color = \"black\") +   # Text color\n",
    "  theme_minimal() +\n",
    "  labs(title = \"Number of Studies per Year\",\n",
    "       x = \"\",\n",
    "       y = \"Number of Studies\") +\n",
    "  theme(axis.text.x = element_text(angle = 45, hjust = 1),\n",
    "        axis.text.y = element_text(size = 10)) +\n",
    "  scale_y_continuous(breaks = seq(0, max(Years_Counts$Counts, na.rm = TRUE) + 1, 1), \n",
    "                     expand = expansion(mult = c(0, 0.1)))  # Ticks every 1 unit\n"
   ]
  }
 ],
 "metadata": {
  "kernelspec": {
   "display_name": "R",
   "language": "R",
   "name": "ir"
  },
  "language_info": {
   "codemirror_mode": "r",
   "file_extension": ".r",
   "mimetype": "text/x-r-source",
   "name": "R",
   "pygments_lexer": "r",
   "version": "4.5.1"
  }
 },
 "nbformat": 4,
 "nbformat_minor": 2
}
